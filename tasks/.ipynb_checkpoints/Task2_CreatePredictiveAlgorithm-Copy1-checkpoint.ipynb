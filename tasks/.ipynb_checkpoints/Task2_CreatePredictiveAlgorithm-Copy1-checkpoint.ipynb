{
 "cells": [
  {
   "cell_type": "markdown",
   "metadata": {},
   "source": [
    "# Task 2: Create a Predictive Algorithm\n",
    "\n",
    "In your second task, you were expected to create model that classifies your labels that done in the first task.\n",
    "Create a model by using Python or R. You are free to choose your algorithm and libraries / packages to use.\n",
    "\n",
    "Finally, tune your hyper-parameters of your model by randomized search, grid search or any other search method and explain your reasoning for this choice."
   ]
  },
  {
   "cell_type": "markdown",
   "metadata": {},
   "source": [
    "---"
   ]
  },
  {
   "cell_type": "markdown",
   "metadata": {},
   "source": [
    "For this first test, we are going to use `xgboost` algorithm since it is really powerful in binary classification problems and has a really large list of advantages:\n",
    "\n",
    ">__1. Regularization:__\n",
    ">\n",
    ">Standard GBM implementation has no regularization like XGBoost, therefore it also helps to reduce overfitting.\n",
    ">In fact, XGBoost is also known as ‘regularized boosting‘ technique.\n",
    ">\n",
    ">__2. Parallel Processing:__\n",
    ">\n",
    ">XGBoost implements parallel processing and is blazingly faster as compared to GBM.\n",
    ">But hang on, we know that boosting is sequential process so how can it be parallelized? We know that each tree can be built only after the previous one, so what stops us from making a tree using all cores? I hope you get where I’m coming from. Check this link out to explore further.\n",
    ">XGBoost also supports implementation on Hadoop.\n",
    ">\n",
    ">__3. High Flexibility__\n",
    ">\n",
    ">XGBoost allow users to define custom optimization objectives and evaluation criteria.\n",
    ">This adds a whole new dimension to the model and there is no limit to what we can do.\n",
    ">\n",
    ">__4. Handling Missing Values__\n",
    ">\n",
    ">XGBoost has an in-built routine to handle missing values.\n",
    ">User is required to supply a different value than other observations and pass that as a parameter. XGBoost tries different things as it encounters a missing value on each node and learns which path to take for missing values in future.\n",
    ">\n",
    ">__5. Tree Pruning:__\n",
    ">\n",
    ">A GBM would stop splitting a node when it encounters a negative loss in the split. Thus it is more of a greedy algorithm.\n",
    ">XGBoost on the other hand make splits upto the max_depth specified and then start pruning the tree backwards and remove splits beyond which there is no positive gain.\n",
    ">Another advantage is that sometimes a split of negative loss say -2 may be followed by a split of positive loss +10. GBM would stop as it encounters -2. But XGBoost will go deeper and it will see a combined effect of +8 of the split and keep both.\n",
    ">\n",
    ">__6. Built-in Cross-Validation__\n",
    ">\n",
    ">XGBoost allows user to run a cross-validation at each iteration of the boosting process and thus it is easy to get the exact optimum number of boosting iterations in a single run.\n",
    ">This is unlike GBM where we have to run a grid-search and only a limited values can be tested.\n",
    ">\n",
    ">__7. Continue on Existing Model__\n",
    ">\n",
    ">User can start training an XGBoost model from its last iteration of previous run. This can be of significant advantage in certain specific applications.\n",
    ">GBM implementation of sklearn also has this feature so they are even on this point."
   ]
  },
  {
   "cell_type": "code",
   "execution_count": 2,
   "metadata": {},
   "outputs": [
    {
     "name": "stderr",
     "output_type": "stream",
     "text": [
      "/Users/moyandreu/coding/glovo/Data_Scientist_Interview/env/lib/python3.6/site-packages/sklearn/cross_validation.py:41: DeprecationWarning: This module was deprecated in version 0.18 in favor of the model_selection module into which all the refactored classes and functions are moved. Also note that the interface of the new CV iterators are different from that of this module. This module will be removed in 0.20.\n",
      "  \"This module will be removed in 0.20.\", DeprecationWarning)\n"
     ]
    }
   ],
   "source": [
    "import numpy as np\n",
    "import pandas as pd\n",
    "\n",
    "import xgboost as xgb\n",
    "from xgboost import XGBClassifier\n",
    "from sklearn import cross_validation, metrics\n",
    "from sklearn.model_selection import train_test_split\n",
    "\n",
    "from matplotlib import pyplot\n",
    "import matplotlib.pylab as plt\n",
    "%matplotlib inline\n",
    "from matplotlib.pylab import rcParams\n",
    "rcParams['figure.figsize'] = 12, 4\n",
    "\n",
    "import warnings\n",
    "warnings.filterwarnings(module='sklearn*', action='ignore', category=DeprecationWarning)"
   ]
  },
  {
   "cell_type": "code",
   "execution_count": 3,
   "metadata": {},
   "outputs": [],
   "source": [
    "df = pd.read_csv('./data/Courier_data.csv')"
   ]
  },
  {
   "cell_type": "code",
   "execution_count": 4,
   "metadata": {},
   "outputs": [
    {
     "data": {
      "text/html": [
       "<div>\n",
       "<style scoped>\n",
       "    .dataframe tbody tr th:only-of-type {\n",
       "        vertical-align: middle;\n",
       "    }\n",
       "\n",
       "    .dataframe tbody tr th {\n",
       "        vertical-align: top;\n",
       "    }\n",
       "\n",
       "    .dataframe thead th {\n",
       "        text-align: right;\n",
       "    }\n",
       "</style>\n",
       "<table border=\"1\" class=\"dataframe\">\n",
       "  <thead>\n",
       "    <tr style=\"text-align: right;\">\n",
       "      <th></th>\n",
       "      <th>courier</th>\n",
       "      <th>week</th>\n",
       "      <th>feature_1</th>\n",
       "      <th>feature_2</th>\n",
       "      <th>feature_3</th>\n",
       "      <th>feature_4</th>\n",
       "      <th>feature_5</th>\n",
       "      <th>feature_6</th>\n",
       "      <th>feature_7</th>\n",
       "      <th>feature_8</th>\n",
       "      <th>...</th>\n",
       "      <th>feature_11</th>\n",
       "      <th>feature_12</th>\n",
       "      <th>feature_13</th>\n",
       "      <th>feature_14</th>\n",
       "      <th>feature_15</th>\n",
       "      <th>feature_16</th>\n",
       "      <th>feature_17</th>\n",
       "      <th>lifetime_1</th>\n",
       "      <th>lifetime_2</th>\n",
       "      <th>flag</th>\n",
       "    </tr>\n",
       "  </thead>\n",
       "  <tbody>\n",
       "    <tr>\n",
       "      <th>0</th>\n",
       "      <td>3767</td>\n",
       "      <td>2</td>\n",
       "      <td>6</td>\n",
       "      <td>34</td>\n",
       "      <td>38</td>\n",
       "      <td>0.0789</td>\n",
       "      <td>0.9211</td>\n",
       "      <td>140.4737</td>\n",
       "      <td>0.1316</td>\n",
       "      <td>2162.4737</td>\n",
       "      <td>...</td>\n",
       "      <td>8</td>\n",
       "      <td>20.208158</td>\n",
       "      <td>5.236316</td>\n",
       "      <td>0.8158</td>\n",
       "      <td>43.384804</td>\n",
       "      <td>1</td>\n",
       "      <td>19</td>\n",
       "      <td>2</td>\n",
       "      <td>33.0</td>\n",
       "      <td>1</td>\n",
       "    </tr>\n",
       "    <tr>\n",
       "      <th>1</th>\n",
       "      <td>3767</td>\n",
       "      <td>4</td>\n",
       "      <td>-1</td>\n",
       "      <td>42</td>\n",
       "      <td>37</td>\n",
       "      <td>0.0000</td>\n",
       "      <td>1.0000</td>\n",
       "      <td>135.5946</td>\n",
       "      <td>0.0811</td>\n",
       "      <td>2097.4054</td>\n",
       "      <td>...</td>\n",
       "      <td>19</td>\n",
       "      <td>18.855405</td>\n",
       "      <td>5.689459</td>\n",
       "      <td>0.8919</td>\n",
       "      <td>35.078042</td>\n",
       "      <td>3</td>\n",
       "      <td>11</td>\n",
       "      <td>2</td>\n",
       "      <td>33.0</td>\n",
       "      <td>1</td>\n",
       "    </tr>\n",
       "    <tr>\n",
       "      <th>2</th>\n",
       "      <td>3767</td>\n",
       "      <td>5</td>\n",
       "      <td>24</td>\n",
       "      <td>41</td>\n",
       "      <td>43</td>\n",
       "      <td>0.0233</td>\n",
       "      <td>0.9767</td>\n",
       "      <td>131.0930</td>\n",
       "      <td>0.0233</td>\n",
       "      <td>2043.8837</td>\n",
       "      <td>...</td>\n",
       "      <td>16</td>\n",
       "      <td>18.925116</td>\n",
       "      <td>5.138605</td>\n",
       "      <td>0.9302</td>\n",
       "      <td>31.455285</td>\n",
       "      <td>1</td>\n",
       "      <td>10</td>\n",
       "      <td>2</td>\n",
       "      <td>33.0</td>\n",
       "      <td>1</td>\n",
       "    </tr>\n",
       "    <tr>\n",
       "      <th>3</th>\n",
       "      <td>3767</td>\n",
       "      <td>6</td>\n",
       "      <td>-22</td>\n",
       "      <td>65</td>\n",
       "      <td>66</td>\n",
       "      <td>0.0606</td>\n",
       "      <td>0.9394</td>\n",
       "      <td>120.1515</td>\n",
       "      <td>0.0000</td>\n",
       "      <td>2124.2727</td>\n",
       "      <td>...</td>\n",
       "      <td>33</td>\n",
       "      <td>18.259697</td>\n",
       "      <td>4.704394</td>\n",
       "      <td>0.7879</td>\n",
       "      <td>34.252991</td>\n",
       "      <td>1</td>\n",
       "      <td>30</td>\n",
       "      <td>2</td>\n",
       "      <td>33.0</td>\n",
       "      <td>1</td>\n",
       "    </tr>\n",
       "    <tr>\n",
       "      <th>4</th>\n",
       "      <td>6282</td>\n",
       "      <td>2</td>\n",
       "      <td>9</td>\n",
       "      <td>33</td>\n",
       "      <td>27</td>\n",
       "      <td>0.0741</td>\n",
       "      <td>0.9259</td>\n",
       "      <td>100.0000</td>\n",
       "      <td>0.0370</td>\n",
       "      <td>4075.7407</td>\n",
       "      <td>...</td>\n",
       "      <td>5</td>\n",
       "      <td>26.863704</td>\n",
       "      <td>4.828519</td>\n",
       "      <td>0.8889</td>\n",
       "      <td>46.478114</td>\n",
       "      <td>1</td>\n",
       "      <td>4</td>\n",
       "      <td>1</td>\n",
       "      <td>35.0</td>\n",
       "      <td>0</td>\n",
       "    </tr>\n",
       "  </tbody>\n",
       "</table>\n",
       "<p>5 rows × 22 columns</p>\n",
       "</div>"
      ],
      "text/plain": [
       "   courier  week  feature_1  feature_2  feature_3  feature_4  feature_5  \\\n",
       "0     3767     2          6         34         38     0.0789     0.9211   \n",
       "1     3767     4         -1         42         37     0.0000     1.0000   \n",
       "2     3767     5         24         41         43     0.0233     0.9767   \n",
       "3     3767     6        -22         65         66     0.0606     0.9394   \n",
       "4     6282     2          9         33         27     0.0741     0.9259   \n",
       "\n",
       "   feature_6  feature_7  feature_8  ...   feature_11  feature_12  feature_13  \\\n",
       "0   140.4737     0.1316  2162.4737  ...            8   20.208158    5.236316   \n",
       "1   135.5946     0.0811  2097.4054  ...           19   18.855405    5.689459   \n",
       "2   131.0930     0.0233  2043.8837  ...           16   18.925116    5.138605   \n",
       "3   120.1515     0.0000  2124.2727  ...           33   18.259697    4.704394   \n",
       "4   100.0000     0.0370  4075.7407  ...            5   26.863704    4.828519   \n",
       "\n",
       "   feature_14  feature_15  feature_16  feature_17  lifetime_1  lifetime_2  \\\n",
       "0      0.8158   43.384804           1          19           2        33.0   \n",
       "1      0.8919   35.078042           3          11           2        33.0   \n",
       "2      0.9302   31.455285           1          10           2        33.0   \n",
       "3      0.7879   34.252991           1          30           2        33.0   \n",
       "4      0.8889   46.478114           1           4           1        35.0   \n",
       "\n",
       "   flag  \n",
       "0     1  \n",
       "1     1  \n",
       "2     1  \n",
       "3     1  \n",
       "4     0  \n",
       "\n",
       "[5 rows x 22 columns]"
      ]
     },
     "execution_count": 4,
     "metadata": {},
     "output_type": "execute_result"
    }
   ],
   "source": [
    "df.head()"
   ]
  },
  {
   "cell_type": "markdown",
   "metadata": {},
   "source": [
    "---\n",
    "\n",
    "## Preprocessing"
   ]
  },
  {
   "cell_type": "code",
   "execution_count": 5,
   "metadata": {},
   "outputs": [
    {
     "data": {
      "text/html": [
       "<div>\n",
       "<style scoped>\n",
       "    .dataframe tbody tr th:only-of-type {\n",
       "        vertical-align: middle;\n",
       "    }\n",
       "\n",
       "    .dataframe tbody tr th {\n",
       "        vertical-align: top;\n",
       "    }\n",
       "\n",
       "    .dataframe thead th {\n",
       "        text-align: right;\n",
       "    }\n",
       "</style>\n",
       "<table border=\"1\" class=\"dataframe\">\n",
       "  <thead>\n",
       "    <tr style=\"text-align: right;\">\n",
       "      <th></th>\n",
       "      <th>courier</th>\n",
       "      <th>week</th>\n",
       "      <th>feature_1</th>\n",
       "      <th>feature_2</th>\n",
       "      <th>feature_3</th>\n",
       "      <th>feature_4</th>\n",
       "      <th>feature_5</th>\n",
       "      <th>feature_6</th>\n",
       "      <th>feature_7</th>\n",
       "      <th>feature_8</th>\n",
       "      <th>...</th>\n",
       "      <th>feature_11</th>\n",
       "      <th>feature_12</th>\n",
       "      <th>feature_13</th>\n",
       "      <th>feature_14</th>\n",
       "      <th>feature_15</th>\n",
       "      <th>feature_16</th>\n",
       "      <th>feature_17</th>\n",
       "      <th>lifetime_1</th>\n",
       "      <th>lifetime_2</th>\n",
       "      <th>flag</th>\n",
       "    </tr>\n",
       "  </thead>\n",
       "  <tbody>\n",
       "    <tr>\n",
       "      <th>count</th>\n",
       "      <td>3025.000000</td>\n",
       "      <td>3025.000000</td>\n",
       "      <td>3025.000000</td>\n",
       "      <td>3025.000000</td>\n",
       "      <td>3025.000000</td>\n",
       "      <td>3025.000000</td>\n",
       "      <td>3025.000000</td>\n",
       "      <td>3025.000000</td>\n",
       "      <td>3025.000000</td>\n",
       "      <td>3025.000000</td>\n",
       "      <td>...</td>\n",
       "      <td>3025.000000</td>\n",
       "      <td>3025.000000</td>\n",
       "      <td>3025.000000</td>\n",
       "      <td>3025.000000</td>\n",
       "      <td>3025.000000</td>\n",
       "      <td>3025.000000</td>\n",
       "      <td>3025.000000</td>\n",
       "      <td>3025.000000</td>\n",
       "      <td>3025.000000</td>\n",
       "      <td>3025.000000</td>\n",
       "    </tr>\n",
       "    <tr>\n",
       "      <th>mean</th>\n",
       "      <td>368198.358347</td>\n",
       "      <td>3.292231</td>\n",
       "      <td>-2.893223</td>\n",
       "      <td>43.383140</td>\n",
       "      <td>54.476033</td>\n",
       "      <td>0.076942</td>\n",
       "      <td>0.923059</td>\n",
       "      <td>104.688290</td>\n",
       "      <td>0.065939</td>\n",
       "      <td>4070.988724</td>\n",
       "      <td>...</td>\n",
       "      <td>20.252893</td>\n",
       "      <td>20.032864</td>\n",
       "      <td>5.293364</td>\n",
       "      <td>0.764485</td>\n",
       "      <td>70.344298</td>\n",
       "      <td>2.207273</td>\n",
       "      <td>13.469752</td>\n",
       "      <td>1.524298</td>\n",
       "      <td>30.229091</td>\n",
       "      <td>0.349091</td>\n",
       "    </tr>\n",
       "    <tr>\n",
       "      <th>std</th>\n",
       "      <td>127993.952842</td>\n",
       "      <td>2.252106</td>\n",
       "      <td>16.372872</td>\n",
       "      <td>23.770959</td>\n",
       "      <td>30.592909</td>\n",
       "      <td>0.072091</td>\n",
       "      <td>0.072091</td>\n",
       "      <td>8.809467</td>\n",
       "      <td>0.065232</td>\n",
       "      <td>1298.174332</td>\n",
       "      <td>...</td>\n",
       "      <td>12.224470</td>\n",
       "      <td>3.276434</td>\n",
       "      <td>0.981991</td>\n",
       "      <td>0.168306</td>\n",
       "      <td>18.660267</td>\n",
       "      <td>1.487941</td>\n",
       "      <td>12.423356</td>\n",
       "      <td>0.814969</td>\n",
       "      <td>12.170176</td>\n",
       "      <td>0.476762</td>\n",
       "    </tr>\n",
       "    <tr>\n",
       "      <th>min</th>\n",
       "      <td>3767.000000</td>\n",
       "      <td>0.000000</td>\n",
       "      <td>-138.000000</td>\n",
       "      <td>1.000000</td>\n",
       "      <td>1.000000</td>\n",
       "      <td>0.000000</td>\n",
       "      <td>0.000000</td>\n",
       "      <td>92.857100</td>\n",
       "      <td>0.000000</td>\n",
       "      <td>1445.666700</td>\n",
       "      <td>...</td>\n",
       "      <td>0.000000</td>\n",
       "      <td>7.140000</td>\n",
       "      <td>3.507143</td>\n",
       "      <td>0.000000</td>\n",
       "      <td>2.957809</td>\n",
       "      <td>1.000000</td>\n",
       "      <td>1.000000</td>\n",
       "      <td>1.000000</td>\n",
       "      <td>-61.000000</td>\n",
       "      <td>0.000000</td>\n",
       "    </tr>\n",
       "    <tr>\n",
       "      <th>25%</th>\n",
       "      <td>281494.000000</td>\n",
       "      <td>1.000000</td>\n",
       "      <td>-11.000000</td>\n",
       "      <td>26.000000</td>\n",
       "      <td>31.000000</td>\n",
       "      <td>0.026700</td>\n",
       "      <td>0.888900</td>\n",
       "      <td>100.000000</td>\n",
       "      <td>0.014700</td>\n",
       "      <td>2761.015900</td>\n",
       "      <td>...</td>\n",
       "      <td>11.000000</td>\n",
       "      <td>18.145942</td>\n",
       "      <td>4.607222</td>\n",
       "      <td>0.722200</td>\n",
       "      <td>59.786836</td>\n",
       "      <td>1.000000</td>\n",
       "      <td>5.000000</td>\n",
       "      <td>1.000000</td>\n",
       "      <td>24.000000</td>\n",
       "      <td>0.000000</td>\n",
       "    </tr>\n",
       "    <tr>\n",
       "      <th>50%</th>\n",
       "      <td>406948.000000</td>\n",
       "      <td>3.000000</td>\n",
       "      <td>-2.000000</td>\n",
       "      <td>40.000000</td>\n",
       "      <td>51.000000</td>\n",
       "      <td>0.062500</td>\n",
       "      <td>0.937500</td>\n",
       "      <td>100.750000</td>\n",
       "      <td>0.051700</td>\n",
       "      <td>4167.511100</td>\n",
       "      <td>...</td>\n",
       "      <td>19.000000</td>\n",
       "      <td>19.662683</td>\n",
       "      <td>5.169545</td>\n",
       "      <td>0.802000</td>\n",
       "      <td>73.398889</td>\n",
       "      <td>2.000000</td>\n",
       "      <td>11.000000</td>\n",
       "      <td>1.000000</td>\n",
       "      <td>30.000000</td>\n",
       "      <td>0.000000</td>\n",
       "    </tr>\n",
       "    <tr>\n",
       "      <th>75%</th>\n",
       "      <td>467864.000000</td>\n",
       "      <td>5.000000</td>\n",
       "      <td>6.000000</td>\n",
       "      <td>57.000000</td>\n",
       "      <td>74.000000</td>\n",
       "      <td>0.111100</td>\n",
       "      <td>0.973300</td>\n",
       "      <td>105.400000</td>\n",
       "      <td>0.098200</td>\n",
       "      <td>4941.105300</td>\n",
       "      <td>...</td>\n",
       "      <td>27.000000</td>\n",
       "      <td>21.400312</td>\n",
       "      <td>5.728191</td>\n",
       "      <td>0.867600</td>\n",
       "      <td>83.759259</td>\n",
       "      <td>3.000000</td>\n",
       "      <td>17.000000</td>\n",
       "      <td>2.000000</td>\n",
       "      <td>37.000000</td>\n",
       "      <td>1.000000</td>\n",
       "    </tr>\n",
       "    <tr>\n",
       "      <th>max</th>\n",
       "      <td>519341.000000</td>\n",
       "      <td>7.000000</td>\n",
       "      <td>77.000000</td>\n",
       "      <td>169.000000</td>\n",
       "      <td>184.000000</td>\n",
       "      <td>1.000000</td>\n",
       "      <td>1.000000</td>\n",
       "      <td>197.739100</td>\n",
       "      <td>0.666700</td>\n",
       "      <td>12593.900000</td>\n",
       "      <td>...</td>\n",
       "      <td>82.000000</td>\n",
       "      <td>66.400000</td>\n",
       "      <td>10.917143</td>\n",
       "      <td>1.000000</td>\n",
       "      <td>180.861111</td>\n",
       "      <td>13.000000</td>\n",
       "      <td>195.000000</td>\n",
       "      <td>4.000000</td>\n",
       "      <td>66.000000</td>\n",
       "      <td>1.000000</td>\n",
       "    </tr>\n",
       "  </tbody>\n",
       "</table>\n",
       "<p>8 rows × 22 columns</p>\n",
       "</div>"
      ],
      "text/plain": [
       "             courier         week    feature_1    feature_2    feature_3  \\\n",
       "count    3025.000000  3025.000000  3025.000000  3025.000000  3025.000000   \n",
       "mean   368198.358347     3.292231    -2.893223    43.383140    54.476033   \n",
       "std    127993.952842     2.252106    16.372872    23.770959    30.592909   \n",
       "min      3767.000000     0.000000  -138.000000     1.000000     1.000000   \n",
       "25%    281494.000000     1.000000   -11.000000    26.000000    31.000000   \n",
       "50%    406948.000000     3.000000    -2.000000    40.000000    51.000000   \n",
       "75%    467864.000000     5.000000     6.000000    57.000000    74.000000   \n",
       "max    519341.000000     7.000000    77.000000   169.000000   184.000000   \n",
       "\n",
       "         feature_4    feature_5    feature_6    feature_7     feature_8  \\\n",
       "count  3025.000000  3025.000000  3025.000000  3025.000000   3025.000000   \n",
       "mean      0.076942     0.923059   104.688290     0.065939   4070.988724   \n",
       "std       0.072091     0.072091     8.809467     0.065232   1298.174332   \n",
       "min       0.000000     0.000000    92.857100     0.000000   1445.666700   \n",
       "25%       0.026700     0.888900   100.000000     0.014700   2761.015900   \n",
       "50%       0.062500     0.937500   100.750000     0.051700   4167.511100   \n",
       "75%       0.111100     0.973300   105.400000     0.098200   4941.105300   \n",
       "max       1.000000     1.000000   197.739100     0.666700  12593.900000   \n",
       "\n",
       "          ...        feature_11   feature_12   feature_13   feature_14  \\\n",
       "count     ...       3025.000000  3025.000000  3025.000000  3025.000000   \n",
       "mean      ...         20.252893    20.032864     5.293364     0.764485   \n",
       "std       ...         12.224470     3.276434     0.981991     0.168306   \n",
       "min       ...          0.000000     7.140000     3.507143     0.000000   \n",
       "25%       ...         11.000000    18.145942     4.607222     0.722200   \n",
       "50%       ...         19.000000    19.662683     5.169545     0.802000   \n",
       "75%       ...         27.000000    21.400312     5.728191     0.867600   \n",
       "max       ...         82.000000    66.400000    10.917143     1.000000   \n",
       "\n",
       "        feature_15   feature_16   feature_17   lifetime_1   lifetime_2  \\\n",
       "count  3025.000000  3025.000000  3025.000000  3025.000000  3025.000000   \n",
       "mean     70.344298     2.207273    13.469752     1.524298    30.229091   \n",
       "std      18.660267     1.487941    12.423356     0.814969    12.170176   \n",
       "min       2.957809     1.000000     1.000000     1.000000   -61.000000   \n",
       "25%      59.786836     1.000000     5.000000     1.000000    24.000000   \n",
       "50%      73.398889     2.000000    11.000000     1.000000    30.000000   \n",
       "75%      83.759259     3.000000    17.000000     2.000000    37.000000   \n",
       "max     180.861111    13.000000   195.000000     4.000000    66.000000   \n",
       "\n",
       "              flag  \n",
       "count  3025.000000  \n",
       "mean      0.349091  \n",
       "std       0.476762  \n",
       "min       0.000000  \n",
       "25%       0.000000  \n",
       "50%       0.000000  \n",
       "75%       1.000000  \n",
       "max       1.000000  \n",
       "\n",
       "[8 rows x 22 columns]"
      ]
     },
     "execution_count": 5,
     "metadata": {},
     "output_type": "execute_result"
    }
   ],
   "source": [
    "df.describe()"
   ]
  },
  {
   "cell_type": "code",
   "execution_count": 33,
   "metadata": {},
   "outputs": [
    {
     "name": "stdout",
     "output_type": "stream",
     "text": [
      "StandardScaler(copy=True, with_mean=True, with_std=True)\n"
     ]
    }
   ],
   "source": [
    "from sklearn.preprocessing import StandardScaler\n",
    "\n",
    "scaler = StandardScaler()\n",
    "print(scaler.fit_transform(train[predictors]))"
   ]
  },
  {
   "cell_type": "markdown",
   "metadata": {},
   "source": [
    "---\n",
    "\n",
    "## Modelling"
   ]
  },
  {
   "cell_type": "code",
   "execution_count": 30,
   "metadata": {},
   "outputs": [],
   "source": [
    "# Choose all predictors except target & IDcols\n",
    "features = [x for x in df.columns if x not in ['flag']]\n",
    "predictors = features\n",
    "predictors.remove('courier')\n",
    "target = 'flag'\n",
    "\n",
    "X = df[features].values\n",
    "y = df['flag'].values"
   ]
  },
  {
   "cell_type": "code",
   "execution_count": 31,
   "metadata": {},
   "outputs": [],
   "source": [
    "X_train, X_test, y_train, y_test = train_test_split(X, y, test_size=0.10, random_state=42)"
   ]
  },
  {
   "cell_type": "code",
   "execution_count": 32,
   "metadata": {},
   "outputs": [],
   "source": [
    "train = pd.DataFrame(X_train, columns=[features])\n",
    "train['flag'] = list(y_train)\n",
    "\n",
    "test = pd.DataFrame(X_test, columns=[features])\n",
    "test['flag'] = y_test"
   ]
  },
  {
   "cell_type": "code",
   "execution_count": 27,
   "metadata": {},
   "outputs": [],
   "source": [
    "def modelfit(alg, dtrain, dtest, predictors, verbose=0, useTrainCV=True, cv_folds=5, early_stopping_rounds=50):\n",
    "    \n",
    "    if useTrainCV:\n",
    "        xgb_param = alg.get_xgb_params()\n",
    "        xgtrain = xgb.DMatrix(dtrain[predictors].values, label=dtrain[target].values.flatten())\n",
    "        cvresult = xgb.cv(\n",
    "            xgb_param, \n",
    "            xgtrain, \n",
    "            num_boost_round=alg.get_params()['n_estimators'], \n",
    "            nfold=cv_folds,\n",
    "            metrics='auc', \n",
    "            early_stopping_rounds=early_stopping_rounds, \n",
    "            verbose_eval=verbose)\n",
    "        alg.set_params(n_estimators=cvresult.shape[0])\n",
    "        print(alg.get_params())\n",
    "    \n",
    "    #Fit the algorithm on the data\n",
    "    alg.fit(dtrain[predictors], dtrain[target].values.flatten(),eval_metric='auc')\n",
    "        \n",
    "    # Predict training set:\n",
    "    dtrain_predictions = alg.predict(dtrain[predictors])\n",
    "    dtrain_predprob = alg.predict_proba(dtrain[predictors])[:,1]\n",
    "        \n",
    "    # Print model report:\n",
    "    print( \"\\nModel Report (Train)\")\n",
    "    print( \"Accuracy : %.4g\" % metrics.accuracy_score(dtrain[target].values, dtrain_predictions))\n",
    "    print( \"AUC Score: %f\" % metrics.roc_auc_score(dtrain[target].values, dtrain_predprob))\n",
    "    \n",
    "    # Predict validation set:\n",
    "    dtest_predprob = alg.predict_proba(dtest[predictors])[:,1]\n",
    "\n",
    "    # Print model report:\n",
    "    print('\\nModel Report (Test)')\n",
    "    print( \"AUC Score: %f\" % metrics.roc_auc_score(dtest[target].values, dtest_predprob))\n",
    "    \n",
    "    features_df = pd.DataFrame({'feature': pd.Series(predictors), 'importance': alg.feature_importances_})\n",
    "    features_df = features_df.sort_values('importance', ascending=False)\n",
    "    ind = np.arange(len(features_df['feature'].values))    # the x locations for the groups\n",
    "    \n",
    "    pyplot.figure(num=None, figsize=[12,4])\n",
    "    pyplot.bar(range(len(features_df)), features_df['importance'].values)\n",
    "    pyplot.xticks(ind, features_df['feature'].values, rotation='vertical')\n",
    "    pyplot.ylabel('Feature Importance Score')\n",
    "    pyplot.show()"
   ]
  },
  {
   "cell_type": "markdown",
   "metadata": {},
   "source": [
    "In order to decide on boosting parameters, we need to set some initial values of other parameters. Lets take the following values:\n",
    "\n",
    "* __max_depth = 5:__ This should be between 3-10. I’ve started with 5 but you can choose a different number as well. 4-6 can be good starting points.\n",
    "* __min_child_weight = 1:__ A smaller value is chosen because it is a highly imbalanced class problem and leaf nodes can have smaller size groups.\n",
    "* __gamma = 0:__ A smaller value like 0.1-0.2 can also be chosen for starting. This will anyways be tuned later.\n",
    "* __subsample, colsample_bytree = 0.8:__ This is a commonly used used start value. Typical values range between 0.5-0.9.\n",
    "* __scale_pos_weight = 1:__ Because of high class imbalance.\n",
    "\n",
    "Please note that all the above are just initial estimates and will be tuned later. Lets take a low __learning rate of 0.1__ here and check the optimum number of trees using cv function of xgboost. The function defined above will do it for us."
   ]
  },
  {
   "cell_type": "code",
   "execution_count": 15,
   "metadata": {
    "scrolled": false
   },
   "outputs": [
    {
     "name": "stdout",
     "output_type": "stream",
     "text": [
      "{'base_score': 0.5, 'booster': 'gbtree', 'colsample_bylevel': 1, 'colsample_bytree': 0.8, 'gamma': 0, 'learning_rate': 0.1, 'max_delta_step': 0, 'max_depth': 5, 'min_child_weight': 1, 'missing': None, 'n_estimators': 107, 'n_jobs': 1, 'nthread': 4, 'objective': 'binary:logistic', 'random_state': 0, 'reg_alpha': 0, 'reg_lambda': 1, 'scale_pos_weight': 1, 'seed': 27, 'silent': True, 'subsample': 0.8}\n",
      "\n",
      "Model Report (Train)\n",
      "Accuracy : 0.935\n",
      "AUC Score: 0.985064\n",
      "\n",
      "Model Report (Test)\n",
      "AUC Score: 0.818107\n"
     ]
    },
    {
     "data": {
      "image/png": "[encoded data removed]",
      "text/plain": [
       "<Figure size 432x288 with 1 Axes>"
      ]
     },
     "metadata": {},
     "output_type": "display_data"
    }
   ],
   "source": [
    "xgb1 = XGBClassifier(\n",
    " learning_rate =0.1,\n",
    " n_estimators=1000,\n",
    " max_depth=5,\n",
    " min_child_weight=1,\n",
    " gamma=0,\n",
    " subsample=0.8,\n",
    " colsample_bytree=0.8,\n",
    " objective= 'binary:logistic',\n",
    " nthread=4,\n",
    " scale_pos_weight=1,\n",
    " seed=27)\n",
    "\n",
    "modelfit(xgb1, train, test, predictors)"
   ]
  },
  {
   "cell_type": "markdown",
   "metadata": {},
   "source": [
    "## GridSearch"
   ]
  },
  {
   "cell_type": "markdown",
   "metadata": {},
   "source": [
    "A search consists of:\n",
    "* an estimator (regressor or classifier such as sklearn.svm.SVC());\n",
    "* a parameter space;\n",
    "* a method for searching or sampling candidates;\n",
    "* a cross-validation scheme; and\n",
    "* a score function."
   ]
  },
  {
   "cell_type": "markdown",
   "metadata": {},
   "source": [
    "<h6 class=\"text-muted\">Step 1: Tune max_depth and min_child_weight</h6>\n",
    "\n",
    "We tune these first as they will have the highest impact on model outcome. To start with, let’s set wider ranges and then we will perform another iteration for smaller ranges."
   ]
  },
  {
   "cell_type": "code",
   "execution_count": 16,
   "metadata": {
    "scrolled": true
   },
   "outputs": [
    {
     "data": {
      "text/plain": [
       "({'max_depth': 9, 'min_child_weight': 1}, 0.8086358524801958)"
      ]
     },
     "execution_count": 16,
     "metadata": {},
     "output_type": "execute_result"
    }
   ],
   "source": [
    "from sklearn.model_selection import GridSearchCV #Perforing grid search\n",
    "\n",
    "param_test1 = {\n",
    " 'max_depth':list(range(3,10,2)),\n",
    " 'min_child_weight':list(range(1,6,2))\n",
    "}\n",
    "\n",
    "gsearch1 = GridSearchCV(\n",
    "    estimator = XGBClassifier(\n",
    "        learning_rate =0.1, \n",
    "        n_estimators=300, \n",
    "        max_depth=5,\n",
    "        min_child_weight=1, \n",
    "        gamma=0, \n",
    "        subsample=0.8, \n",
    "        colsample_bytree=0.8,\n",
    "        objective= 'binary:logistic', \n",
    "        nthread=4, \n",
    "        scale_pos_weight=1, \n",
    "        seed=27,\n",
    "        verbose_eval=1),\n",
    "    param_grid = param_test1, scoring='roc_auc', n_jobs=4, iid=False, cv=5, return_train_score=True)\n",
    "\n",
    "gsearch1.fit(train[predictors].values, train[target].values.flatten())\n",
    "#gsearch1.cv_results_, \n",
    "gsearch1.best_params_, gsearch1.best_score_"
   ]
  },
  {
   "cell_type": "code",
   "execution_count": 17,
   "metadata": {},
   "outputs": [
    {
     "data": {
      "text/plain": [
       "({'max_depth': 6, 'min_child_weight': 1}, 0.8084394375427191)"
      ]
     },
     "execution_count": 17,
     "metadata": {},
     "output_type": "execute_result"
    }
   ],
   "source": [
    "param_test2 = {\n",
    " 'max_depth':[4,5,6],\n",
    " 'min_child_weight':[1,2,3]\n",
    "}\n",
    "\n",
    "gsearch2 = GridSearchCV(\n",
    "    estimator = XGBClassifier(\n",
    "        learning_rate=0.1,\n",
    "        n_estimators=300,\n",
    "        max_depth=5,\n",
    "        min_child_weight=2,\n",
    "        gamma=0,\n",
    "        subsample=0.8,\n",
    "        colsample_bytree=0.8,\n",
    "        objective= 'binary:logistic',\n",
    "        nthread=4,\n",
    "        scale_pos_weight=1,\n",
    "        seed=27), \n",
    "    param_grid = param_test2, scoring='roc_auc',n_jobs=4,iid=False, cv=5, return_train_score=True)\n",
    "\n",
    "gsearch2.fit(train[predictors].values,train[target].values.flatten())\n",
    "#gsearch2.cv_results_, \n",
    "gsearch2.best_params_, gsearch2.best_score_"
   ]
  },
  {
   "cell_type": "code",
   "execution_count": 18,
   "metadata": {},
   "outputs": [
    {
     "name": "stdout",
     "output_type": "stream",
     "text": [
      "{'base_score': 0.5, 'booster': 'gbtree', 'colsample_bylevel': 1, 'colsample_bytree': 0.8, 'gamma': 0, 'learning_rate': 0.1, 'max_delta_step': 0, 'max_depth': 6, 'min_child_weight': 1, 'missing': None, 'n_estimators': 64, 'n_jobs': 1, 'nthread': 4, 'objective': 'binary:logistic', 'random_state': 0, 'reg_alpha': 0, 'reg_lambda': 1, 'scale_pos_weight': 1, 'seed': 27, 'silent': True, 'subsample': 0.8}\n",
      "\n",
      "Model Report (Train)\n",
      "Accuracy : 0.9394\n",
      "AUC Score: 0.985997\n",
      "\n",
      "Model Report (Test)\n",
      "AUC Score: 0.812816\n"
     ]
    },
    {
     "data": {
      "image/png": "[encoded data removed]",
      "text/plain": [
       "<Figure size 432x288 with 1 Axes>"
      ]
     },
     "metadata": {},
     "output_type": "display_data"
    },
    {
     "data": {
      "text/plain": [
       "({'max_depth': 6, 'min_child_weight': 1}, 0.8084394375427191)"
      ]
     },
     "execution_count": 18,
     "metadata": {},
     "output_type": "execute_result"
    }
   ],
   "source": [
    "modelfit(gsearch2.best_estimator_, train, test, predictors)\n",
    "gsearch2.best_params_, gsearch2.best_score_"
   ]
  },
  {
   "cell_type": "markdown",
   "metadata": {},
   "source": [
    "The optimal values are `max_depth` = 4 and `min_child_weight` = 1, for now."
   ]
  },
  {
   "cell_type": "markdown",
   "metadata": {},
   "source": [
    "<h6 class=\"text-muted\">Step 2: Tune gamma</h6>\n",
    "\n",
    "Now let's tune gamma value using the parameters already tuned above. "
   ]
  },
  {
   "cell_type": "code",
   "execution_count": 19,
   "metadata": {},
   "outputs": [
    {
     "data": {
      "text/plain": [
       "({'gamma': 0.4}, 0.8045037500934591)"
      ]
     },
     "execution_count": 19,
     "metadata": {},
     "output_type": "execute_result"
    }
   ],
   "source": [
    "param_test3 = {\n",
    " 'gamma':[i/10.0 for i in range(0,5)]\n",
    "}\n",
    "\n",
    "gsearch3 = GridSearchCV(\n",
    "    estimator = XGBClassifier(\n",
    "        learning_rate =0.1, \n",
    "        n_estimators=300, \n",
    "        max_depth=4,\n",
    "        min_child_weight=1, \n",
    "        gamma=0, \n",
    "        subsample=0.8, \n",
    "        colsample_bytree=0.8,\n",
    "        objective= 'binary:logistic', \n",
    "        nthread=4, \n",
    "        scale_pos_weight=1, \n",
    "        seed=27,\n",
    "        verbose_eval=1),\n",
    "    param_grid = param_test3, scoring='roc_auc', n_jobs=4, iid=False, cv=5, return_train_score=True)\n",
    "\n",
    "gsearch3.fit(train[predictors].values, train[target].values.flatten())\n",
    "\n",
    "gsearch3.best_params_, gsearch3.best_score_"
   ]
  },
  {
   "cell_type": "markdown",
   "metadata": {},
   "source": [
    "This shows that our original value of gamma, i.e. 0 is the optimum one. Before proceeding, a good idea would be to re-calibrate the number of boosting rounds for the updated parameters."
   ]
  },
  {
   "cell_type": "code",
   "execution_count": 20,
   "metadata": {},
   "outputs": [
    {
     "name": "stdout",
     "output_type": "stream",
     "text": [
      "{'base_score': 0.5, 'booster': 'gbtree', 'colsample_bylevel': 1, 'colsample_bytree': 0.8, 'gamma': 0, 'learning_rate': 0.1, 'max_delta_step': 0, 'max_depth': 4, 'min_child_weight': 1, 'missing': None, 'n_estimators': 89, 'n_jobs': 1, 'nthread': 4, 'objective': 'binary:logistic', 'random_state': 0, 'reg_alpha': 0, 'reg_lambda': 1, 'scale_pos_weight': 1, 'seed': 27, 'silent': True, 'subsample': 0.8}\n",
      "\n",
      "Model Report (Train)\n",
      "Accuracy : 0.8578\n",
      "AUC Score: 0.939867\n",
      "\n",
      "Model Report (Test)\n",
      "AUC Score: 0.818301\n"
     ]
    },
    {
     "data": {
      "image/png": "[encoded data removed]",
      "text/plain": [
       "<Figure size 432x288 with 1 Axes>"
      ]
     },
     "metadata": {},
     "output_type": "display_data"
    }
   ],
   "source": [
    "xgb2 = XGBClassifier(\n",
    " learning_rate =0.1,\n",
    " n_estimators=1000,\n",
    " max_depth=4,\n",
    " min_child_weight=1,\n",
    " gamma=0,\n",
    " subsample=0.8,\n",
    " colsample_bytree=0.8,\n",
    " objective= 'binary:logistic',\n",
    " nthread=4,\n",
    " scale_pos_weight=1,\n",
    " seed=27)\n",
    "\n",
    "modelfit(xgb2, train, test, predictors)"
   ]
  },
  {
   "cell_type": "markdown",
   "metadata": {},
   "source": [
    "Here, we can see the improvement in score. So the final parameters are:\n",
    "\n",
    "* `max_depth`: 4\n",
    "* `min_child_weight`: 1\n",
    "* `gamma`: 0"
   ]
  },
  {
   "cell_type": "markdown",
   "metadata": {},
   "source": [
    "<h6 class=\"text-muted\">Step 3: Tune subsample and colsample_bytree</h6>\n",
    "\n",
    "The next step would be try different `subsample` and `colsample_bytree` values. Lets do this in 2 stages as well and take values 0.6,0.7,0.8,0.9 for both to start with. "
   ]
  },
  {
   "cell_type": "code",
   "execution_count": 21,
   "metadata": {},
   "outputs": [
    {
     "data": {
      "text/plain": [
       "({'colsample_bytree': 0.7, 'subsample': 0.7}, 0.8087590969126092)"
      ]
     },
     "execution_count": 21,
     "metadata": {},
     "output_type": "execute_result"
    }
   ],
   "source": [
    "param_test4 = {\n",
    " 'subsample':[i/10.0 for i in range(6,10)],\n",
    " 'colsample_bytree':[i/10.0 for i in range(6,10)]\n",
    "}\n",
    "\n",
    "gsearch4 = GridSearchCV(\n",
    "    estimator = XGBClassifier(\n",
    "        learning_rate =0.1, \n",
    "        n_estimators=300, \n",
    "        max_depth=4,\n",
    "        min_child_weight=1, \n",
    "        gamma=0, \n",
    "        subsample=0.8, \n",
    "        colsample_bytree=0.8,\n",
    "        objective= 'binary:logistic', \n",
    "        nthread=4, \n",
    "        scale_pos_weight=1, \n",
    "        seed=27,\n",
    "        verbose_eval=1),\n",
    "    param_grid = param_test4, scoring='roc_auc', n_jobs=4, iid=False, cv=5, return_train_score=True)\n",
    "\n",
    "gsearch4.fit(train[predictors].values, train[target].values.flatten())\n",
    "\n",
    "gsearch4.best_params_, gsearch4.best_score_"
   ]
  },
  {
   "cell_type": "markdown",
   "metadata": {},
   "source": [
    "Here, we found 0.8 as the optimum value for `colsample_bytree` and 0.9 for `subsample`. Now we should try values in 0.05 interval around these."
   ]
  },
  {
   "cell_type": "code",
   "execution_count": 22,
   "metadata": {},
   "outputs": [
    {
     "data": {
      "text/plain": [
       "({'colsample_bytree': 0.9, 'subsample': 0.85}, 0.8094394538651241)"
      ]
     },
     "execution_count": 22,
     "metadata": {},
     "output_type": "execute_result"
    }
   ],
   "source": [
    "param_test5 = {\n",
    " 'subsample':[i/100.0 for i in range(70,95,5)],\n",
    " 'colsample_bytree':[i/100.0 for i in range(75,95,5)]\n",
    "}\n",
    "\n",
    "gsearch5 = GridSearchCV(\n",
    "    estimator = XGBClassifier(\n",
    "        learning_rate =0.1, \n",
    "        n_estimators=300, \n",
    "        max_depth=4,\n",
    "        min_child_weight=1, \n",
    "        gamma=0, \n",
    "        subsample=0.8, \n",
    "        colsample_bytree=0.8,\n",
    "        objective= 'binary:logistic', \n",
    "        nthread=4, \n",
    "        scale_pos_weight=1, \n",
    "        seed=27,\n",
    "        verbose_eval=1),\n",
    "    param_grid = param_test5, scoring='roc_auc', n_jobs=4, iid=False, cv=5, return_train_score=True)\n",
    "\n",
    "gsearch5.fit(train[predictors].values, train[target].values.flatten())\n",
    "\n",
    "gsearch5.best_params_, gsearch5.best_score_"
   ]
  },
  {
   "cell_type": "markdown",
   "metadata": {},
   "source": [
    "The optimum values are:\n",
    "\n",
    "* `subsample`: 0.90\n",
    "* `colsample_bytree`: 0.85"
   ]
  },
  {
   "cell_type": "markdown",
   "metadata": {},
   "source": [
    "<h6 class=\"text-muted\">Step 4: Tuning Regularization Parameters</h6>\n",
    "\n",
    "Next step is to apply regularization to reduce overfitting. Though many people don’t use this parameters much as `gamma` provides a substantial way of controlling complexity. But we should always try it. I’ll tune `reg_alpha` value here and leave it upto you to try different values of `reg_lambda`."
   ]
  },
  {
   "cell_type": "code",
   "execution_count": 23,
   "metadata": {},
   "outputs": [
    {
     "data": {
      "text/plain": [
       "({'mean_fit_time': array([0.77933421, 0.75481553, 0.79191785, 0.85896826, 0.28963337]),\n",
       "  'std_fit_time': array([0.01407621, 0.01051347, 0.02873004, 0.03242556, 0.01516916]),\n",
       "  'mean_score_time': array([0.00904198, 0.00743232, 0.01016707, 0.00988188, 0.00162764]),\n",
       "  'std_score_time': array([8.69638079e-04, 9.46348905e-05, 4.08634691e-03, 1.16676341e-03,\n",
       "         1.74771871e-04]),\n",
       "  'param_reg_alpha': masked_array(data=[1e-05, 0.01, 0.1, 1, 100],\n",
       "               mask=[False, False, False, False, False],\n",
       "         fill_value='?',\n",
       "              dtype=object),\n",
       "  'params': [{'reg_alpha': 1e-05},\n",
       "   {'reg_alpha': 0.01},\n",
       "   {'reg_alpha': 0.1},\n",
       "   {'reg_alpha': 1},\n",
       "   {'reg_alpha': 100}],\n",
       "  'split0_test_score': array([0.78584317, 0.79261691, 0.78037093, 0.78822433, 0.73940308]),\n",
       "  'split1_test_score': array([0.81807022, 0.82076197, 0.8214423 , 0.81678351, 0.77195551]),\n",
       "  'split2_test_score': array([0.82469607, 0.82284734, 0.82003727, 0.82157541, 0.75967255]),\n",
       "  'split3_test_score': array([0.8127862 , 0.81796015, 0.8103479 , 0.82395183, 0.75321142]),\n",
       "  'split4_test_score': array([0.79926942, 0.79343969, 0.79920978, 0.80314597, 0.73696138]),\n",
       "  'mean_test_score': array([0.80813302, 0.80952521, 0.80628164, 0.81073621, 0.75224079]),\n",
       "  'std_test_score': array([0.01392936, 0.01356117, 0.01521166, 0.01336493, 0.01298546]),\n",
       "  'rank_test_score': array([3, 2, 4, 1, 5], dtype=int32),\n",
       "  'split0_train_score': array([0.99959749, 0.99946023, 0.99938789, 0.99928679, 0.7785913 ]),\n",
       "  'split1_train_score': array([0.99951587, 0.9995539 , 0.99940458, 0.99936563, 0.77217199]),\n",
       "  'split2_train_score': array([0.99960862, 0.99946208, 0.9994695 , 0.99939809, 0.78193104]),\n",
       "  'split3_train_score': array([0.99937943, 0.99927106, 0.99944334, 0.99944889, 0.78400956]),\n",
       "  'split4_train_score': array([0.99918549, 0.99931137, 0.99937246, 0.99882267, 0.78851184]),\n",
       "  'mean_train_score': array([0.99945738, 0.99941173, 0.99941555, 0.99926441, 0.78104314]),\n",
       "  'std_train_score': array([1.58697327e-04, 1.04842658e-04, 3.58474814e-05, 2.27062311e-04,\n",
       "         5.47865614e-03])},\n",
       " {'reg_alpha': 1},\n",
       " 0.8107362095227678)"
      ]
     },
     "execution_count": 23,
     "metadata": {},
     "output_type": "execute_result"
    }
   ],
   "source": [
    "param_test6 = {\n",
    " 'reg_alpha':[1e-5, 1e-2, 0.1, 1, 100]\n",
    "}\n",
    "\n",
    "gsearch6 = GridSearchCV(\n",
    "    estimator = XGBClassifier(\n",
    "        learning_rate =0.1, \n",
    "        n_estimators=300, \n",
    "        max_depth=4,\n",
    "        min_child_weight=1, \n",
    "        gamma=0, \n",
    "        subsample=0.9, \n",
    "        colsample_bytree=0.85,\n",
    "        objective= 'binary:logistic', \n",
    "        nthread=4, \n",
    "        scale_pos_weight=1, \n",
    "        seed=27,\n",
    "        verbose_eval=1),\n",
    "    param_grid = param_test6, scoring='roc_auc', n_jobs=4, iid=False, cv=5, return_train_score=True)\n",
    "\n",
    "gsearch6.fit(train[predictors].values, train[target].values.flatten())\n",
    "\n",
    "gsearch6.cv_results_, gsearch6.best_params_, gsearch6.best_score_"
   ]
  },
  {
   "cell_type": "markdown",
   "metadata": {},
   "source": [
    "We can see that the CV score is less than the previous case. But the values tried are very widespread, we should try values closer to the optimum here (0.01) to see if we get something better."
   ]
  },
  {
   "cell_type": "code",
   "execution_count": 24,
   "metadata": {},
   "outputs": [
    {
     "data": {
      "text/plain": [
       "({'mean_fit_time': array([0.70747466, 0.74639964, 0.75030413, 0.7517344 , 0.74167066]),\n",
       "  'std_fit_time': array([0.01046941, 0.00278921, 0.0078155 , 0.00681517, 0.01220495]),\n",
       "  'mean_score_time': array([0.00844193, 0.00778141, 0.00748358, 0.00720663, 0.00706592]),\n",
       "  'std_score_time': array([0.00060427, 0.00086252, 0.00041375, 0.00025759, 0.00016016]),\n",
       "  'param_reg_alpha': masked_array(data=[0, 0.001, 0.005, 0.01, 0.05],\n",
       "               mask=[False, False, False, False, False],\n",
       "         fill_value='?',\n",
       "              dtype=object),\n",
       "  'params': [{'reg_alpha': 0},\n",
       "   {'reg_alpha': 0.001},\n",
       "   {'reg_alpha': 0.005},\n",
       "   {'reg_alpha': 0.01},\n",
       "   {'reg_alpha': 0.05}],\n",
       "  'split0_test_score': array([0.78584317, 0.78887509, 0.78999911, 0.79261691, 0.78498536]),\n",
       "  'split1_test_score': array([0.81807022, 0.81768569, 0.81573343, 0.82076197, 0.81599965]),\n",
       "  'split2_test_score': array([0.82469607, 0.82382347, 0.8253764 , 0.82284734, 0.82212264]),\n",
       "  'split3_test_score': array([0.8127862 , 0.81226583, 0.81565566, 0.81796015, 0.81595302]),\n",
       "  'split4_test_score': array([0.79926942, 0.79780826, 0.80591919, 0.79343969, 0.79069629]),\n",
       "  'mean_test_score': array([0.80813302, 0.80809167, 0.81053676, 0.80952521, 0.80595139]),\n",
       "  'std_test_score': array([0.01392936, 0.01289949, 0.01197114, 0.01356117, 0.0150652 ]),\n",
       "  'rank_test_score': array([3, 4, 1, 2, 5], dtype=int32),\n",
       "  'split0_train_score': array([0.99959749, 0.99941756, 0.99941107, 0.99946023, 0.99937305]),\n",
       "  'split1_train_score': array([0.99951587, 0.99953164, 0.99950289, 0.9995539 , 0.99945652]),\n",
       "  'split2_train_score': array([0.99960862, 0.99950011, 0.99939809, 0.99946208, 0.99927103]),\n",
       "  'split3_train_score': array([0.99937943, 0.99932941, 0.99941647, 0.99927106, 0.99954152]),\n",
       "  'split4_train_score': array([0.99918549, 0.99924843, 0.99927898, 0.99931137, 0.99912533]),\n",
       "  'mean_train_score': array([0.99945738, 0.99940543, 0.9994015 , 0.99941173, 0.99935349]),\n",
       "  'std_train_score': array([1.58697327e-04, 1.05325525e-04, 7.15812093e-05, 1.04842658e-04,\n",
       "         1.45056935e-04])},\n",
       " {'reg_alpha': 0.005},\n",
       " 0.8107362095227678)"
      ]
     },
     "execution_count": 24,
     "metadata": {},
     "output_type": "execute_result"
    }
   ],
   "source": [
    "param_test7 = {\n",
    " 'reg_alpha':[0, 0.001, 0.005, 0.01, 0.05]\n",
    "}\n",
    "\n",
    "gsearch7 = GridSearchCV(\n",
    "    estimator = XGBClassifier(\n",
    "        learning_rate =0.1, \n",
    "        n_estimators=300, \n",
    "        max_depth=4,\n",
    "        min_child_weight=1, \n",
    "        gamma=0, \n",
    "        subsample=0.9, \n",
    "        colsample_bytree=0.85,\n",
    "        objective= 'binary:logistic', \n",
    "        nthread=4, \n",
    "        scale_pos_weight=1, \n",
    "        seed=27,\n",
    "        verbose_eval=1),\n",
    "    param_grid = param_test7, scoring='roc_auc', n_jobs=4, iid=False, cv=5, return_train_score=True)\n",
    "\n",
    "gsearch7.fit(train[predictors].values, train[target].values.flatten())\n",
    "\n",
    "gsearch7.cv_results_, gsearch7.best_params_, gsearch6.best_score_"
   ]
  },
  {
   "cell_type": "markdown",
   "metadata": {},
   "source": [
    "You can see that we got a better CV. Now we can apply this regularization in the model and look at the impact:"
   ]
  },
  {
   "cell_type": "code",
   "execution_count": 25,
   "metadata": {},
   "outputs": [
    {
     "name": "stdout",
     "output_type": "stream",
     "text": [
      "{'base_score': 0.5, 'booster': 'gbtree', 'colsample_bylevel': 1, 'colsample_bytree': 0.85, 'gamma': 0, 'learning_rate': 0.1, 'max_delta_step': 0, 'max_depth': 4, 'min_child_weight': 1, 'missing': None, 'n_estimators': 79, 'n_jobs': 1, 'nthread': 4, 'objective': 'binary:logistic', 'random_state': 0, 'reg_alpha': 0.05, 'reg_lambda': 1, 'scale_pos_weight': 1, 'seed': 27, 'silent': True, 'subsample': 0.9}\n",
      "\n",
      "Model Report (Train)\n",
      "Accuracy : 0.8589\n",
      "AUC Score: 0.934709\n",
      "\n",
      "Model Report (Test)\n",
      "AUC Score: 0.807961\n"
     ]
    },
    {
     "data": {
      "image/png": "[encoded data removed]",
      "text/plain": [
       "<Figure size 432x288 with 1 Axes>"
      ]
     },
     "metadata": {},
     "output_type": "display_data"
    }
   ],
   "source": [
    "xgb3 = XGBClassifier(\n",
    " learning_rate =0.1,\n",
    " n_estimators=1000,\n",
    " max_depth=4,\n",
    " min_child_weight=1,\n",
    " gamma=0,\n",
    " subsample=0.9,\n",
    " colsample_bytree=0.85,\n",
    " reg_alpha=0.05,\n",
    " objective= 'binary:logistic',\n",
    " nthread=4,\n",
    " scale_pos_weight=1,\n",
    " seed=27)\n",
    "\n",
    "modelfit(xgb3, train, test, predictors)"
   ]
  },
  {
   "cell_type": "markdown",
   "metadata": {},
   "source": [
    "<h6 class=\"text-muted\">Step 5: Reducing the Learning Rate</h6>\n",
    "\n",
    "Lastly, we should lower the learning rate and add more trees. Lets use the cv function of XGBoost to do the job again."
   ]
  },
  {
   "cell_type": "code",
   "execution_count": 26,
   "metadata": {},
   "outputs": [
    {
     "name": "stdout",
     "output_type": "stream",
     "text": [
      "{'base_score': 0.5, 'booster': 'gbtree', 'colsample_bylevel': 1, 'colsample_bytree': 0.85, 'gamma': 0, 'learning_rate': 0.01, 'max_delta_step': 0, 'max_depth': 4, 'min_child_weight': 1, 'missing': None, 'n_estimators': 816, 'n_jobs': 1, 'nthread': 4, 'objective': 'binary:logistic', 'random_state': 0, 'reg_alpha': 0.05, 'reg_lambda': 1, 'scale_pos_weight': 1, 'seed': 27, 'silent': True, 'subsample': 0.9}\n",
      "\n",
      "Model Report (Train)\n",
      "Accuracy : 0.8589\n",
      "AUC Score: 0.937781\n",
      "\n",
      "Model Report (Test)\n",
      "AUC Score: 0.818689\n"
     ]
    },
    {
     "data": {
      "image/png": "[encoded data removed]",
      "text/plain": [
       "<Figure size 432x288 with 1 Axes>"
      ]
     },
     "metadata": {},
     "output_type": "display_data"
    }
   ],
   "source": [
    "xgb3 = XGBClassifier(\n",
    " learning_rate =0.01,\n",
    " n_estimators=5000,\n",
    " max_depth=4,\n",
    " min_child_weight=1,\n",
    " gamma=0,\n",
    " subsample=0.9,\n",
    " colsample_bytree=0.85,\n",
    " reg_alpha=0.05,\n",
    " objective= 'binary:logistic',\n",
    " nthread=4,\n",
    " scale_pos_weight=1,\n",
    " seed=27)\n",
    "\n",
    "modelfit(xgb3, train, test, predictors)"
   ]
  },
  {
   "cell_type": "markdown",
   "metadata": {},
   "source": [
    "Reducing the `learning_rate` did no work as expected and the score reduced slightly."
   ]
  }
 ],
 "metadata": {
  "kernelspec": {
   "display_name": "Python 3",
   "language": "python",
   "name": "python3"
  },
  "language_info": {
   "codemirror_mode": {
    "name": "ipython",
    "version": 3
   },
   "file_extension": ".py",
   "mimetype": "text/x-python",
   "name": "python",
   "nbconvert_exporter": "python",
   "pygments_lexer": "ipython3",
   "version": "3.6.2"
  }
 },
 "nbformat": 4,
 "nbformat_minor": 2
}
