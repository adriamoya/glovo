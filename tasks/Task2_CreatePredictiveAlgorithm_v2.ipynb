{
 "cells": [
  {
   "cell_type": "markdown",
   "metadata": {},
   "source": [
    "# Task 2: Create a Predictive Algorithm\n",
    "\n",
    "In your second task, you were expected to create model that classifies your labels that done in the first task.\n",
    "Create a model by using Python or R. You are free to choose your algorithm and libraries / packages to use.\n",
    "\n",
    "Finally, tune your hyper-parameters of your model by randomized search, grid search or any other search method and explain your reasoning for this choice."
   ]
  },
  {
   "cell_type": "markdown",
   "metadata": {},
   "source": [
    "---"
   ]
  },
  {
   "cell_type": "code",
   "execution_count": 1,
   "metadata": {},
   "outputs": [],
   "source": [
    "import numpy as np\n",
    "import pandas as pd\n",
    "#import seaborn as sns\n",
    "\n",
    "from sklearn import metrics\n",
    "from sklearn.model_selection import train_test_split\n",
    "\n",
    "from matplotlib import pyplot\n",
    "import matplotlib.pylab as plt\n",
    "%matplotlib inline\n",
    "from matplotlib.pylab import rcParams\n",
    "rcParams['figure.figsize'] = 12, 4\n",
    "\n",
    "from utils.aux_functions import univariate_analysis, agg_assign\n",
    "\n",
    "import warnings\n",
    "warnings.filterwarnings(module='sklearn*', action='ignore', category=DeprecationWarning)"
   ]
  },
  {
   "cell_type": "code",
   "execution_count": 2,
   "metadata": {
    "collapsed": true
   },
   "outputs": [],
   "source": [
    "# read data\n",
    "df = pd.read_csv('./data/Courier_data.csv')"
   ]
  },
  {
   "cell_type": "code",
   "execution_count": 3,
   "metadata": {},
   "outputs": [
    {
     "data": {
      "text/html": [
       "<div>\n",
       "<style scoped>\n",
       "    .dataframe tbody tr th:only-of-type {\n",
       "        vertical-align: middle;\n",
       "    }\n",
       "\n",
       "    .dataframe tbody tr th {\n",
       "        vertical-align: top;\n",
       "    }\n",
       "\n",
       "    .dataframe thead th {\n",
       "        text-align: right;\n",
       "    }\n",
       "</style>\n",
       "<table border=\"1\" class=\"dataframe\">\n",
       "  <thead>\n",
       "    <tr style=\"text-align: right;\">\n",
       "      <th></th>\n",
       "      <th>courier</th>\n",
       "      <th>week</th>\n",
       "      <th>feature_1</th>\n",
       "      <th>feature_2</th>\n",
       "      <th>feature_3</th>\n",
       "      <th>feature_4</th>\n",
       "      <th>feature_5</th>\n",
       "      <th>feature_6</th>\n",
       "      <th>feature_7</th>\n",
       "      <th>feature_8</th>\n",
       "      <th>...</th>\n",
       "      <th>feature_14</th>\n",
       "      <th>feature_15</th>\n",
       "      <th>feature_16</th>\n",
       "      <th>feature_17</th>\n",
       "      <th>lifetime_2</th>\n",
       "      <th>lifetime_1_a</th>\n",
       "      <th>lifetime_1_b</th>\n",
       "      <th>lifetime_1_c</th>\n",
       "      <th>lifetime_1_d</th>\n",
       "      <th>flag</th>\n",
       "    </tr>\n",
       "  </thead>\n",
       "  <tbody>\n",
       "    <tr>\n",
       "      <th>0</th>\n",
       "      <td>3767</td>\n",
       "      <td>2</td>\n",
       "      <td>6</td>\n",
       "      <td>34</td>\n",
       "      <td>38</td>\n",
       "      <td>0.0789</td>\n",
       "      <td>0.9211</td>\n",
       "      <td>140.4737</td>\n",
       "      <td>0.1316</td>\n",
       "      <td>2162.4737</td>\n",
       "      <td>...</td>\n",
       "      <td>0.8158</td>\n",
       "      <td>43.384804</td>\n",
       "      <td>1</td>\n",
       "      <td>19</td>\n",
       "      <td>33.0</td>\n",
       "      <td>0</td>\n",
       "      <td>1</td>\n",
       "      <td>0</td>\n",
       "      <td>0</td>\n",
       "      <td>1</td>\n",
       "    </tr>\n",
       "    <tr>\n",
       "      <th>1</th>\n",
       "      <td>3767</td>\n",
       "      <td>4</td>\n",
       "      <td>-1</td>\n",
       "      <td>42</td>\n",
       "      <td>37</td>\n",
       "      <td>0.0000</td>\n",
       "      <td>1.0000</td>\n",
       "      <td>135.5946</td>\n",
       "      <td>0.0811</td>\n",
       "      <td>2097.4054</td>\n",
       "      <td>...</td>\n",
       "      <td>0.8919</td>\n",
       "      <td>35.078042</td>\n",
       "      <td>3</td>\n",
       "      <td>11</td>\n",
       "      <td>33.0</td>\n",
       "      <td>0</td>\n",
       "      <td>1</td>\n",
       "      <td>0</td>\n",
       "      <td>0</td>\n",
       "      <td>1</td>\n",
       "    </tr>\n",
       "    <tr>\n",
       "      <th>2</th>\n",
       "      <td>3767</td>\n",
       "      <td>5</td>\n",
       "      <td>24</td>\n",
       "      <td>41</td>\n",
       "      <td>43</td>\n",
       "      <td>0.0233</td>\n",
       "      <td>0.9767</td>\n",
       "      <td>131.0930</td>\n",
       "      <td>0.0233</td>\n",
       "      <td>2043.8837</td>\n",
       "      <td>...</td>\n",
       "      <td>0.9302</td>\n",
       "      <td>31.455285</td>\n",
       "      <td>1</td>\n",
       "      <td>10</td>\n",
       "      <td>33.0</td>\n",
       "      <td>0</td>\n",
       "      <td>1</td>\n",
       "      <td>0</td>\n",
       "      <td>0</td>\n",
       "      <td>1</td>\n",
       "    </tr>\n",
       "    <tr>\n",
       "      <th>3</th>\n",
       "      <td>3767</td>\n",
       "      <td>6</td>\n",
       "      <td>-22</td>\n",
       "      <td>65</td>\n",
       "      <td>66</td>\n",
       "      <td>0.0606</td>\n",
       "      <td>0.9394</td>\n",
       "      <td>120.1515</td>\n",
       "      <td>0.0000</td>\n",
       "      <td>2124.2727</td>\n",
       "      <td>...</td>\n",
       "      <td>0.7879</td>\n",
       "      <td>34.252991</td>\n",
       "      <td>1</td>\n",
       "      <td>30</td>\n",
       "      <td>33.0</td>\n",
       "      <td>0</td>\n",
       "      <td>1</td>\n",
       "      <td>0</td>\n",
       "      <td>0</td>\n",
       "      <td>1</td>\n",
       "    </tr>\n",
       "    <tr>\n",
       "      <th>4</th>\n",
       "      <td>6282</td>\n",
       "      <td>2</td>\n",
       "      <td>9</td>\n",
       "      <td>33</td>\n",
       "      <td>27</td>\n",
       "      <td>0.0741</td>\n",
       "      <td>0.9259</td>\n",
       "      <td>100.0000</td>\n",
       "      <td>0.0370</td>\n",
       "      <td>4075.7407</td>\n",
       "      <td>...</td>\n",
       "      <td>0.8889</td>\n",
       "      <td>46.478114</td>\n",
       "      <td>1</td>\n",
       "      <td>4</td>\n",
       "      <td>35.0</td>\n",
       "      <td>1</td>\n",
       "      <td>0</td>\n",
       "      <td>0</td>\n",
       "      <td>0</td>\n",
       "      <td>0</td>\n",
       "    </tr>\n",
       "  </tbody>\n",
       "</table>\n",
       "<p>5 rows × 25 columns</p>\n",
       "</div>"
      ],
      "text/plain": [
       "   courier  week  feature_1  feature_2  feature_3  feature_4  feature_5  \\\n",
       "0     3767     2          6         34         38     0.0789     0.9211   \n",
       "1     3767     4         -1         42         37     0.0000     1.0000   \n",
       "2     3767     5         24         41         43     0.0233     0.9767   \n",
       "3     3767     6        -22         65         66     0.0606     0.9394   \n",
       "4     6282     2          9         33         27     0.0741     0.9259   \n",
       "\n",
       "   feature_6  feature_7  feature_8  ...   feature_14  feature_15  feature_16  \\\n",
       "0   140.4737     0.1316  2162.4737  ...       0.8158   43.384804           1   \n",
       "1   135.5946     0.0811  2097.4054  ...       0.8919   35.078042           3   \n",
       "2   131.0930     0.0233  2043.8837  ...       0.9302   31.455285           1   \n",
       "3   120.1515     0.0000  2124.2727  ...       0.7879   34.252991           1   \n",
       "4   100.0000     0.0370  4075.7407  ...       0.8889   46.478114           1   \n",
       "\n",
       "   feature_17  lifetime_2  lifetime_1_a  lifetime_1_b  lifetime_1_c  \\\n",
       "0          19        33.0             0             1             0   \n",
       "1          11        33.0             0             1             0   \n",
       "2          10        33.0             0             1             0   \n",
       "3          30        33.0             0             1             0   \n",
       "4           4        35.0             1             0             0   \n",
       "\n",
       "   lifetime_1_d  flag  \n",
       "0             0     1  \n",
       "1             0     1  \n",
       "2             0     1  \n",
       "3             0     1  \n",
       "4             0     0  \n",
       "\n",
       "[5 rows x 25 columns]"
      ]
     },
     "execution_count": 3,
     "metadata": {},
     "output_type": "execute_result"
    }
   ],
   "source": [
    "df.head()"
   ]
  },
  {
   "cell_type": "code",
   "execution_count": 4,
   "metadata": {},
   "outputs": [
    {
     "data": {
      "text/plain": [
       "(3025, 25)"
      ]
     },
     "execution_count": 4,
     "metadata": {},
     "output_type": "execute_result"
    }
   ],
   "source": [
    "df.shape"
   ]
  },
  {
   "cell_type": "markdown",
   "metadata": {},
   "source": [
    "---\n",
    "\n",
    "## Data Exploration"
   ]
  },
  {
   "cell_type": "markdown",
   "metadata": {},
   "source": [
    "<h3 class=\"text-muted\">Understanding the flag</h3>\n",
    "> Our `flag` identifies couriers that did not work in weeks 9 to 11. Therefore, based on weekly observations, we are trying to __predict which couriers did not work in those 9 to 11 last weeks__."
   ]
  },
  {
   "cell_type": "markdown",
   "metadata": {},
   "source": [
    "The distribution of flags is relatively balanced (even though there are not so many observations)"
   ]
  },
  {
   "cell_type": "code",
   "execution_count": 5,
   "metadata": {
    "collapsed": true
   },
   "outputs": [],
   "source": [
    "flag = 'flag'"
   ]
  },
  {
   "cell_type": "code",
   "execution_count": 177,
   "metadata": {},
   "outputs": [
    {
     "data": {
      "text/plain": [
       "0    1969\n",
       "1    1056\n",
       "Name: flag, dtype: int64"
      ]
     },
     "execution_count": 177,
     "metadata": {},
     "output_type": "execute_result"
    }
   ],
   "source": [
    "df[flag].value_counts()"
   ]
  },
  {
   "cell_type": "code",
   "execution_count": 6,
   "metadata": {},
   "outputs": [
    {
     "data": {
      "text/html": [
       "<div>\n",
       "<style scoped>\n",
       "    .dataframe tbody tr th:only-of-type {\n",
       "        vertical-align: middle;\n",
       "    }\n",
       "\n",
       "    .dataframe tbody tr th {\n",
       "        vertical-align: top;\n",
       "    }\n",
       "\n",
       "    .dataframe thead th {\n",
       "        text-align: right;\n",
       "    }\n",
       "</style>\n",
       "<table border=\"1\" class=\"dataframe\">\n",
       "  <thead>\n",
       "    <tr style=\"text-align: right;\">\n",
       "      <th></th>\n",
       "      <th>Count</th>\n",
       "      <th>Percentage</th>\n",
       "    </tr>\n",
       "    <tr>\n",
       "      <th>flag</th>\n",
       "      <th></th>\n",
       "      <th></th>\n",
       "    </tr>\n",
       "  </thead>\n",
       "  <tbody>\n",
       "    <tr>\n",
       "      <th>0</th>\n",
       "      <td>1969</td>\n",
       "      <td>0.650909</td>\n",
       "    </tr>\n",
       "    <tr>\n",
       "      <th>1</th>\n",
       "      <td>1056</td>\n",
       "      <td>0.349091</td>\n",
       "    </tr>\n",
       "  </tbody>\n",
       "</table>\n",
       "</div>"
      ],
      "text/plain": [
       "      Count  Percentage\n",
       "flag                   \n",
       "0      1969    0.650909\n",
       "1      1056    0.349091"
      ]
     },
     "execution_count": 6,
     "metadata": {},
     "output_type": "execute_result"
    }
   ],
   "source": [
    "pd.DataFrame(\n",
    "    { \n",
    "        'Count': df.groupby(flag)[flag].count(),\n",
    "        'Percentage': df.groupby((flag)).size() / len(df), \n",
    "    }\n",
    ")"
   ]
  },
  {
   "cell_type": "markdown",
   "metadata": {},
   "source": [
    "The dataset is relatively small but not imbalanced. Since there is only a small set of observations the model can learn from, the risk of overfitting is significantly high. In order to obtain good results, it is necessary to keep in mind the following points:\n",
    "* Reduce the complexity of the model to prevent overfitting the training dataset\n",
    "* Bin continuous variables\n",
    "* Reduce dimesionality (PCA, etc)"
   ]
  },
  {
   "cell_type": "markdown",
   "metadata": {},
   "source": [
    "<h3 class=\"text-muted\">Feature importance</h3>\n",
    "\n",
    "Here we will focus our efforts on identifying good predictors."
   ]
  },
  {
   "cell_type": "markdown",
   "metadata": {},
   "source": [
    "<h6 class=\"text-muted\">Correlation matrix</h6>"
   ]
  },
  {
   "cell_type": "code",
   "execution_count": null,
   "metadata": {},
   "outputs": [],
   "source": [
    "# flag correlation matrix\n",
    "corrmat = df.corr()\n",
    "f, ax = plt.subplots(figsize=(15, 12))\n",
    "k = 25 #number of variables for heatmap\n",
    "cols = corrmat.nlargest(k, flag)[flag].index\n",
    "cm = np.corrcoef(df[cols].values.T)\n",
    "sns.set(font_scale=1.25)\n",
    "hm = sns.heatmap(cm, cmap=\"RdBu\", cbar=True, annot=True, square=True, fmt='.2f', annot_kws={'size': 10}, yticklabels=cols.values, xticklabels=cols.values)\n",
    "plt.show()"
   ]
  },
  {
   "cell_type": "markdown",
   "metadata": {},
   "source": [
    "<h6 class=\"text-muted\">Random Forest (feature importance)</h6>"
   ]
  },
  {
   "cell_type": "code",
   "execution_count": 7,
   "metadata": {
    "collapsed": true
   },
   "outputs": [],
   "source": [
    "features = df.columns[\n",
    "        (~df.columns.str.contains(flag)) &\n",
    "        (~df.columns.str.contains('courier'))\n",
    "        ].values"
   ]
  },
  {
   "cell_type": "code",
   "execution_count": 8,
   "metadata": {},
   "outputs": [],
   "source": [
    "from sklearn.ensemble import RandomForestClassifier\n",
    "\n",
    "X = df[features].values\n",
    "y = df[flag].values\n",
    "\n",
    "rnd_clf = RandomForestClassifier(n_estimators=500, n_jobs=-1, random_state=42)\n",
    "rnd_clf.fit(X, y)\n",
    "\n",
    "df_importances = pd.concat([\n",
    "    pd.Series(features, name='feature'), \n",
    "    pd.Series(rnd_clf.feature_importances_, name='importance')]\n",
    "    , axis=1)"
   ]
  },
  {
   "cell_type": "code",
   "execution_count": 9,
   "metadata": {},
   "outputs": [
    {
     "data": {
      "image/png": "[encoded data removed]",
      "text/plain": [
       "<Figure size 576x864 with 1 Axes>"
      ]
     },
     "metadata": {},
     "output_type": "display_data"
    }
   ],
   "source": [
    "importances = rnd_clf.feature_importances_\n",
    "indices = np.argsort(importances)\n",
    "\n",
    "f, ax = plt.subplots(figsize=(8, 12))\n",
    "plt.title('Feature Importances')\n",
    "plt.barh(range(len(indices)), importances[indices], align='center')\n",
    "plt.yticks(range(len(indices)), features[indices])\n",
    "plt.xlabel('Relative Importance')\n",
    "plt.show()"
   ]
  },
  {
   "cell_type": "markdown",
   "metadata": {},
   "source": [
    "<h6 class=\"text-muted\">Univariate analysis</h6>\n",
    "\n",
    "Let's now focus on performing an individual analysis for each of the most important features and evaluate how it works with our `flag`. To perform a univariate analysis, we will proceed to bin each feature and compare its distribution with the amount of flagged observations.\n",
    "\n",
    "In small datasets, as explained before, it is good practice to bin continuous features to avoid overfitting. Therefore, the following univariate analysis is greatly useful at considering the binning technique for modelling later on. Through this analysis we also put our efforts into finding the right bins and assigning to each bin a _Weight of Evidence_ that can be of use in the modeling phase."
   ]
  },
  {
   "cell_type": "code",
   "execution_count": 10,
   "metadata": {},
   "outputs": [
    {
     "data": {
      "text/html": [
       "<div>\n",
       "<style scoped>\n",
       "    .dataframe tbody tr th:only-of-type {\n",
       "        vertical-align: middle;\n",
       "    }\n",
       "\n",
       "    .dataframe tbody tr th {\n",
       "        vertical-align: top;\n",
       "    }\n",
       "\n",
       "    .dataframe thead th {\n",
       "        text-align: right;\n",
       "    }\n",
       "</style>\n",
       "<table border=\"1\" class=\"dataframe\">\n",
       "  <thead>\n",
       "    <tr style=\"text-align: right;\">\n",
       "      <th></th>\n",
       "      <th>feature</th>\n",
       "      <th>importance</th>\n",
       "    </tr>\n",
       "  </thead>\n",
       "  <tbody>\n",
       "    <tr>\n",
       "      <th>22</th>\n",
       "      <td>feature_3</td>\n",
       "      <td>0.0960483</td>\n",
       "    </tr>\n",
       "    <tr>\n",
       "      <th>21</th>\n",
       "      <td>feature_2</td>\n",
       "      <td>0.0916766</td>\n",
       "    </tr>\n",
       "    <tr>\n",
       "      <th>20</th>\n",
       "      <td>feature_1</td>\n",
       "      <td>0.072867</td>\n",
       "    </tr>\n",
       "    <tr>\n",
       "      <th>19</th>\n",
       "      <td>feature_11</td>\n",
       "      <td>0.0695556</td>\n",
       "    </tr>\n",
       "    <tr>\n",
       "      <th>18</th>\n",
       "      <td>lifetime_2</td>\n",
       "      <td>0.0615485</td>\n",
       "    </tr>\n",
       "    <tr>\n",
       "      <th>17</th>\n",
       "      <td>feature_13</td>\n",
       "      <td>0.0539035</td>\n",
       "    </tr>\n",
       "    <tr>\n",
       "      <th>16</th>\n",
       "      <td>feature_10</td>\n",
       "      <td>0.0535609</td>\n",
       "    </tr>\n",
       "    <tr>\n",
       "      <th>15</th>\n",
       "      <td>feature_15</td>\n",
       "      <td>0.0534575</td>\n",
       "    </tr>\n",
       "    <tr>\n",
       "      <th>14</th>\n",
       "      <td>feature_14</td>\n",
       "      <td>0.0531867</td>\n",
       "    </tr>\n",
       "    <tr>\n",
       "      <th>13</th>\n",
       "      <td>feature_8</td>\n",
       "      <td>0.049499</td>\n",
       "    </tr>\n",
       "  </tbody>\n",
       "</table>\n",
       "</div>"
      ],
      "text/plain": [
       "       feature importance\n",
       "22   feature_3  0.0960483\n",
       "21   feature_2  0.0916766\n",
       "20   feature_1   0.072867\n",
       "19  feature_11  0.0695556\n",
       "18  lifetime_2  0.0615485\n",
       "17  feature_13  0.0539035\n",
       "16  feature_10  0.0535609\n",
       "15  feature_15  0.0534575\n",
       "14  feature_14  0.0531867\n",
       "13   feature_8   0.049499"
      ]
     },
     "execution_count": 10,
     "metadata": {},
     "output_type": "execute_result"
    }
   ],
   "source": [
    "df_importance = pd.DataFrame([features[indices], importances[indices]]).transpose().rename(columns={0:'feature', 1:'importance'}).sort_values('importance', ascending=False)\n",
    "df_importance.head(10)"
   ]
  },
  {
   "cell_type": "code",
   "execution_count": 11,
   "metadata": {
    "collapsed": true
   },
   "outputs": [],
   "source": [
    "cols = np.append(features[indices][-8:], [flag])"
   ]
  },
  {
   "cell_type": "code",
   "execution_count": null,
   "metadata": {},
   "outputs": [],
   "source": [
    "# flag correlation matrix\n",
    "corrmat = df[cols].corr()\n",
    "f, ax = plt.subplots(figsize=(6, 6))\n",
    "k = len(cols) #number of variables for heatmap\n",
    "cols = corrmat.nlargest(k, flag)[flag].index\n",
    "cm = np.corrcoef(df[cols].values.T)\n",
    "sns.set(font_scale=1.25)\n",
    "hm = sns.heatmap(cm, cmap=\"RdBu\", cbar=True, annot=True, square=True, fmt='.2f', annot_kws={'size': 10}, yticklabels=cols.values, xticklabels=cols.values)\n",
    "plt.show()"
   ]
  },
  {
   "cell_type": "markdown",
   "metadata": {},
   "source": [
    "<h5 class=\"text-muted\">feature_3</h5>"
   ]
  },
  {
   "cell_type": "code",
   "execution_count": 12,
   "metadata": {
    "scrolled": false
   },
   "outputs": [
    {
     "name": "stdout",
     "output_type": "stream",
     "text": [
      "                % flag   n1    n\n",
      "feature_3                       \n",
      "(1.0, 24.0]          1  338  508\n",
      "(24.0, 47.0]         0  380  842\n",
      "(47.0, 70.0]         0  217  790\n",
      "(70.0, 92.0]         0   98  521\n",
      "(92.0, 115.0]        0   20  259\n",
      "(115.0, 138.0]       0    3   77\n",
      "(138.0, 161.0]       0    0   19\n",
      "(161.0, 184.0]       0    0    9\n"
     ]
    },
    {
     "data": {
      "image/png": "[encoded data removed]",
      "text/plain": [
       "<Figure size 1008x504 with 2 Axes>"
      ]
     },
     "metadata": {},
     "output_type": "display_data"
    }
   ],
   "source": [
    "df = univariate_analysis(df, 'feature_3', flag, bins=8, woe=True, precision=0)"
   ]
  },
  {
   "cell_type": "markdown",
   "metadata": {},
   "source": [
    "The tip provided \"*distribution of feature_3 is a hint how the data is generated*\" specially makes sense here when comparing this feature with the `flag` for each bin. We can clearly see that the first bucket (<=24) has the largest amount of `flag`. This means that these courier-week combinations correspond to couriers that did not work after the 9th week (`flag` = 1). Therefore, the larger the `feature_3`, the larger the chances those couriers worked in weeks 9 to 11. Conversely, the lower the `feature_3`, the lower the chances those couriers worked in last weeks of the time window."
   ]
  },
  {
   "cell_type": "markdown",
   "metadata": {},
   "source": [
    "Now let's examine why there is so much correlation between `feature_3` and `feature_11` and `feature_2`."
   ]
  },
  {
   "cell_type": "markdown",
   "metadata": {},
   "source": [
    "<h5 class=\"text-muted\">feature_11</h5>"
   ]
  },
  {
   "cell_type": "code",
   "execution_count": 13,
   "metadata": {
    "scrolled": false
   },
   "outputs": [
    {
     "name": "stdout",
     "output_type": "stream",
     "text": [
      "              % flag   n1    n\n",
      "feature_11                    \n",
      "(-0.0, 10.0]       1  446  729\n",
      "(10.0, 20.0]       0  350  955\n",
      "(20.0, 31.0]       0  194  812\n",
      "(31.0, 41.0]       0   43  341\n",
      "(41.0, 82.0]       0   23  188\n"
     ]
    },
    {
     "data": {
      "image/png": "[encoded data removed]",
      "text/plain": [
       "<Figure size 1008x504 with 2 Axes>"
      ]
     },
     "metadata": {},
     "output_type": "display_data"
    }
   ],
   "source": [
    "df = univariate_analysis(df, 'feature_11', flag, bins=[-0.1, 10, 20, 31, 41, 82], woe=True, precision=0)"
   ]
  },
  {
   "cell_type": "markdown",
   "metadata": {},
   "source": [
    "<h5 class=\"text-muted\">feature_2</h5>"
   ]
  },
  {
   "cell_type": "code",
   "execution_count": 14,
   "metadata": {
    "scrolled": false
   },
   "outputs": [
    {
     "name": "stdout",
     "output_type": "stream",
     "text": [
      "                % flag   n1     n\n",
      "feature_2                        \n",
      "(1.0, 29.0]          1  554   949\n",
      "(29.0, 57.0]         0  372  1326\n",
      "(57.0, 85.0]         0  104   596\n",
      "(85.0, 113.0]        0   15   117\n",
      "(113.0, 141.0]       0    8    32\n",
      "(141.0, 169.0]       1    3     5\n"
     ]
    },
    {
     "data": {
      "image/png": "[encoded data removed]",
      "text/plain": [
       "<Figure size 1008x504 with 2 Axes>"
      ]
     },
     "metadata": {},
     "output_type": "display_data"
    }
   ],
   "source": [
    "df = univariate_analysis(df, 'feature_2', flag, bins=6, woe=True, precision=0)"
   ]
  },
  {
   "cell_type": "markdown",
   "metadata": {},
   "source": [
    "It can be clearly seen that correlations among these three features come from:\n",
    "\n",
    "* The distribution of each feature follows the same pattern (__the majority of the population is concentrated in the first bins, usually with larger amount of flagged observations__)."
   ]
  },
  {
   "cell_type": "markdown",
   "metadata": {},
   "source": [
    "<h5 class=\"text-muted\">lifetime_2</h5>"
   ]
  },
  {
   "cell_type": "code",
   "execution_count": 15,
   "metadata": {
    "scrolled": false
   },
   "outputs": [
    {
     "data": {
      "image/png": "[encoded data removed]",
      "text/plain": [
       "<Figure size 1008x504 with 2 Axes>"
      ]
     },
     "metadata": {},
     "output_type": "display_data"
    }
   ],
   "source": [
    "_ = univariate_analysis(df, 'lifetime_2', flag, bins=25, precision=0, detail=False); del _"
   ]
  },
  {
   "cell_type": "markdown",
   "metadata": {},
   "source": [
    "There is high correlation between `feature_3`, `feature_11` and `feature_2`. It is interesting that `lifetime_2` is not correlated with these 3 features and has a relatively high importance with the `flag`. A more suitable binning is shown below."
   ]
  },
  {
   "cell_type": "code",
   "execution_count": 16,
   "metadata": {
    "scrolled": false
   },
   "outputs": [
    {
     "data": {
      "image/png": "[encoded data removed]",
      "text/plain": [
       "<Figure size 1008x504 with 2 Axes>"
      ]
     },
     "metadata": {},
     "output_type": "display_data"
    }
   ],
   "source": [
    "df = univariate_analysis(df, 'lifetime_2', flag, bins=[-62, 15, 24, 32, 41, 66], woe=True, precision=0, detail=False)"
   ]
  },
  {
   "cell_type": "markdown",
   "metadata": {},
   "source": [
    "<h5 class=\"text-muted\">feature_10</h5>"
   ]
  },
  {
   "cell_type": "code",
   "execution_count": 48,
   "metadata": {
    "scrolled": false
   },
   "outputs": [
    {
     "name": "stdout",
     "output_type": "stream",
     "text": [
      "            % flag   n1     n\n",
      "feature_10                   \n",
      "(0, 6]           1   40    57\n",
      "(6, 8]           0  141   350\n",
      "(8, 10]          0  379  1338\n",
      "(10, 12]         0  342   988\n",
      "(12, 13]         0   68   146\n",
      "(13, 15]         1   61   114\n",
      "(15, 17]         1   15    21\n",
      "(17, 25]         1   10    11\n"
     ]
    },
    {
     "data": {
      "image/png": "[encoded data removed]",
      "text/plain": [
       "<Figure size 1008x504 with 2 Axes>"
      ]
     },
     "metadata": {},
     "output_type": "display_data"
    }
   ],
   "source": [
    "df = univariate_analysis(df, 'feature_10', flag, bins=[0, 6, 8, 10, 12, 13, 15, 17, 25], woe=True, precision=0)"
   ]
  },
  {
   "cell_type": "code",
   "execution_count": 49,
   "metadata": {},
   "outputs": [
    {
     "data": {
      "text/plain": [
       "{'feature_10_woe': {0: -0.22946325278627594, 1: 0.012951152347077981},\n",
       " 'feature_11_woe': {0: -1.0779096687497451, 1: -0.07574231082553656},\n",
       " 'feature_2_woe': {0: 0.31873220280222114, 1: 0.31873220280222114},\n",
       " 'feature_3_woe': {0: -0.42764397601161136, 1: -0.42764397601161136},\n",
       " 'lifetime_2_woe': {0: 0.41383697368941147, 1: 0.41383697368941147}}"
      ]
     },
     "execution_count": 49,
     "metadata": {},
     "output_type": "execute_result"
    }
   ],
   "source": [
    "df[df.columns[df.columns.str.contains('_woe')]].head(2).to_dict()"
   ]
  },
  {
   "cell_type": "markdown",
   "metadata": {},
   "source": [
    "---\n",
    "\n",
    "## Preprocessing"
   ]
  },
  {
   "cell_type": "markdown",
   "metadata": {},
   "source": [
    "<h6 class=\"text-muted\">Standardization</h6>\n",
    "\n",
    "Necessary since there are features with completely different scales."
   ]
  },
  {
   "cell_type": "code",
   "execution_count": 50,
   "metadata": {
    "collapsed": true
   },
   "outputs": [],
   "source": [
    "predictors = df_importances.sort_values('importance', ascending=False)['feature'].head(15).values"
   ]
  },
  {
   "cell_type": "code",
   "execution_count": 51,
   "metadata": {
    "collapsed": true
   },
   "outputs": [],
   "source": [
    "features = df.columns[\n",
    "    ~df.columns.str.contains(flag) &\n",
    "    ~df.columns.str.contains('courier') &\n",
    "    ~df.columns.str.contains('week') &\n",
    "    ~df.columns.str.contains('_bin') &\n",
    "    ~df.columns.str.contains('_woe')\n",
    "    ].values"
   ]
  },
  {
   "cell_type": "markdown",
   "metadata": {},
   "source": [
    "<h6 class=\"text-muted\">PCA to extract new features</h6>\n",
    "\n",
    "Following the hint provided, new features (2) will be extracted from `feature_3` in combination with other ones. We will use PCA in an iterative way until we find the right combination of features such that the principal components have a large predictive power."
   ]
  },
  {
   "cell_type": "code",
   "execution_count": 52,
   "metadata": {},
   "outputs": [],
   "source": [
    "from sklearn.preprocessing import StandardScaler\n",
    "\n",
    "all_predictors = features\n",
    "\n",
    "scaler = StandardScaler()\n",
    "df2 = pd.DataFrame(scaler.fit_transform(df[all_predictors]), columns=all_predictors)\n",
    "df2[flag] = df[flag]\n",
    "df2['courier'] = df['courier']"
   ]
  },
  {
   "cell_type": "code",
   "execution_count": 53,
   "metadata": {
    "collapsed": true
   },
   "outputs": [],
   "source": [
    "pca_features = df2.columns[df2.columns.str.contains('lifetime_1')].values\n",
    "\n",
    "# Separating out the features\n",
    "X = df2.loc[:, pca_features].values\n",
    "\n",
    "# Separating out the target\n",
    "y = df2[[flag]]"
   ]
  },
  {
   "cell_type": "code",
   "execution_count": 54,
   "metadata": {
    "collapsed": true
   },
   "outputs": [],
   "source": [
    "from sklearn.decomposition import PCA\n",
    "\n",
    "pca = PCA(n_components=2)\n",
    "\n",
    "principalComponents = pca.fit_transform(X)\n",
    "principalDf = pd.DataFrame(data = principalComponents\n",
    "             , columns = ['PC1', 'PC2'])"
   ]
  },
  {
   "cell_type": "code",
   "execution_count": 55,
   "metadata": {
    "collapsed": true
   },
   "outputs": [],
   "source": [
    "finalDf = pd.concat([principalDf, y], axis = 1)"
   ]
  },
  {
   "cell_type": "code",
   "execution_count": 56,
   "metadata": {},
   "outputs": [
    {
     "data": {
      "image/png": "[encoded data removed]",
      "text/plain": [
       "<Figure size 576x576 with 1 Axes>"
      ]
     },
     "metadata": {},
     "output_type": "display_data"
    }
   ],
   "source": [
    "fig = plt.figure(figsize = (8,8))\n",
    "ax = fig.add_subplot(1,1,1) \n",
    "ax.set_xlabel('Principal Component 1')\n",
    "ax.set_ylabel('Principal Component 2')\n",
    "ax.set_title('2 component PCA')\n",
    "flags = [0,1]\n",
    "colors = ['r','b']\n",
    "for flag_, color in zip(flags,colors):\n",
    "    indicesToKeep = finalDf[flag] == flag_\n",
    "    ax.scatter(finalDf.loc[indicesToKeep, 'PC1']\n",
    "               , finalDf.loc[indicesToKeep, 'PC2']\n",
    "               , c = color\n",
    "               , s = 50)\n",
    "ax.legend(flags)\n",
    "ax.grid()"
   ]
  },
  {
   "cell_type": "code",
   "execution_count": 57,
   "metadata": {},
   "outputs": [],
   "source": [
    "df3 = pd.concat([df2, df[df.columns[df.columns.str.contains('_woe')]], finalDf[['PC1', 'PC2']]], axis=1)"
   ]
  },
  {
   "cell_type": "code",
   "execution_count": 58,
   "metadata": {
    "collapsed": true
   },
   "outputs": [],
   "source": [
    "# Choose all features except flag\n",
    "# We will train / test split with more features (than predictors) so in case we want to try different features \n",
    "# in modelling, we can access them after splitting\n",
    "\n",
    "features = df3.columns[\n",
    "    ~df3.columns.str.contains(flag) &\n",
    "    ~df3.columns.str.contains('courier') &\n",
    "    ~df3.columns.str.contains('week') &\n",
    "    ~df3.columns.str.contains('bin')\n",
    "    ].values\n",
    "\n",
    "X = df3[features].values\n",
    "y = df3[flag].values"
   ]
  },
  {
   "cell_type": "code",
   "execution_count": 59,
   "metadata": {
    "collapsed": true
   },
   "outputs": [],
   "source": [
    "X_train, X_test, y_train, y_test = train_test_split(X, y, test_size=0.10, stratify = y, random_state=42)"
   ]
  },
  {
   "cell_type": "code",
   "execution_count": 60,
   "metadata": {},
   "outputs": [
    {
     "name": "stdout",
     "output_type": "stream",
     "text": [
      "X_train: (2722, 29)\n",
      "X_test: (303, 29)\n",
      "y_train: (2722,)\n",
      "y_test: (303,)\n"
     ]
    }
   ],
   "source": [
    "print(\"X_train:\", X_train.shape)\n",
    "print(\"X_test:\", X_test.shape)\n",
    "print(\"y_train:\", y_train.shape)\n",
    "print(\"y_test:\", y_test.shape)"
   ]
  },
  {
   "cell_type": "code",
   "execution_count": 61,
   "metadata": {},
   "outputs": [],
   "source": [
    "train = pd.DataFrame(X_train, columns=[features])\n",
    "train[flag] = list(y_train)\n",
    "\n",
    "test = pd.DataFrame(X_test, columns=[features])\n",
    "test[flag] = y_test"
   ]
  },
  {
   "cell_type": "code",
   "execution_count": 62,
   "metadata": {},
   "outputs": [
    {
     "name": "stdout",
     "output_type": "stream",
     "text": [
      "Train: (2722, 30)\n",
      "Test: (303, 30)\n"
     ]
    }
   ],
   "source": [
    "print(\"Train:\", train.shape)\n",
    "print(\"Test:\", test.shape)"
   ]
  },
  {
   "cell_type": "raw",
   "metadata": {},
   "source": [
    "univariate_analysis(df3, 'PC1', 'flag', bins=10)"
   ]
  },
  {
   "cell_type": "markdown",
   "metadata": {},
   "source": [
    "Remove features not necessary for modelling:\n",
    "* `courier`: not used to model since it is just an id (the model results would be definitely better but would not be realistic for production purposes).\n",
    "* `feature_5`: we have seen that has complete negative correlation with `feature_4`.\n",
    "* `lifetime_1`: already included in PCA features."
   ]
  },
  {
   "cell_type": "markdown",
   "metadata": {},
   "source": [
    "---\n",
    "<h2>Model 1 <span class=\"text-muted\">Lasso</span></h2>"
   ]
  },
  {
   "cell_type": "code",
   "execution_count": 109,
   "metadata": {},
   "outputs": [
    {
     "data": {
      "text/plain": [
       "['feature_3_woe',\n",
       " 'feature_11_woe',\n",
       " 'feature_2_woe',\n",
       " 'lifetime_2_woe',\n",
       " 'feature_10_woe']"
      ]
     },
     "execution_count": 109,
     "metadata": {},
     "output_type": "execute_result"
    }
   ],
   "source": [
    "list(df.columns[df.columns.str.contains('_woe')].values)"
   ]
  },
  {
   "cell_type": "code",
   "execution_count": 106,
   "metadata": {},
   "outputs": [],
   "source": [
    "#predictors = [x for x in df3.columns if x not in ['flag', 'courier']]\n",
    "predictors = df3.columns[\n",
    "    ~df3.columns.str.contains(flag) &\n",
    "    ~df3.columns.str.contains('courier') &\n",
    "    ~df3.columns.str.contains('week') &\n",
    "    ~df3.columns.str.contains('lifetime_1') &\n",
    "    ~df3.columns.str.contains('_woe') &\n",
    "    ~df3.columns.str.contains('_bin')\n",
    "    ].values"
   ]
  },
  {
   "cell_type": "code",
   "execution_count": 110,
   "metadata": {},
   "outputs": [],
   "source": [
    "predictors_optimal = [\n",
    "    'feature_1', \n",
    "    'feature_3',\n",
    "    'feature_8',\n",
    "    'feature_16',\n",
    "    'feature_2_woe',\n",
    "    'feature_10_woe',\n",
    "    'lifetime_2_woe',\n",
    "    'PC1',\n",
    "    'PC2'\n",
    "]"
   ]
  },
  {
   "cell_type": "code",
   "execution_count": 157,
   "metadata": {},
   "outputs": [],
   "source": [
    "from sklearn.linear_model import Lasso\n",
    "\n",
    "def model_lasso(train, test, predictors):\n",
    "    \n",
    "    clf = Lasso(alpha=0.001, random_state=0)\n",
    "    clf.fit(train[predictors].values, train[flag].values)\n",
    "\n",
    "    print( \"\\nModel Report (Train)\")\n",
    "    print( \"AUC Score: %f\" % metrics.roc_auc_score(train[flag].values, clf.predict(train[predictors].values)))\n",
    "\n",
    "    print( \"\\nModel Report (Test)\")\n",
    "    print( \"AUC Score: %f\" % metrics.roc_auc_score(test[flag].values, clf.predict(test[predictors].values)))\n",
    "       \n",
    "    zipped = zip(list(predictors), clf.coef_)\n",
    "    zipped = sorted(zipped, key=lambda x: abs(x[1]), reverse=True)\n",
    "\n",
    "    print(\"\\nList of predictors:\")\n",
    "    [print( (\"%+d\" % np.sign(predictor[1]))[0], \"{:.2f}\".format(abs(predictor[1])), predictor[0] ) for predictor in zipped]\n",
    "    \n",
    "    return clf"
   ]
  },
  {
   "cell_type": "code",
   "execution_count": 159,
   "metadata": {},
   "outputs": [
    {
     "name": "stdout",
     "output_type": "stream",
     "text": [
      "\n",
      "Model Report (Train)\n",
      "AUC Score: 0.790388\n",
      "\n",
      "Model Report (Test)\n",
      "AUC Score: 0.777751\n",
      "\n",
      "List of predictors:\n",
      "- 0.15 feature_3\n",
      "- 0.08 feature_1\n",
      "- 0.05 feature_2\n",
      "+ 0.03 feature_8\n",
      "- 0.03 PC2\n",
      "- 0.03 lifetime_2\n",
      "+ 0.02 feature_13\n",
      "+ 0.02 feature_11\n",
      "+ 0.02 PC1\n",
      "- 0.02 feature_7\n",
      "- 0.01 feature_9\n",
      "- 0.01 feature_16\n",
      "- 0.00 feature_15\n",
      "- 0.00 feature_17\n",
      "- 0.00 feature_12\n",
      "- 0.00 feature_6\n",
      "- 0.00 feature_10\n",
      "+ 0.00 feature_4\n",
      "+ 0.00 feature_5\n",
      "+ 0.00 feature_14\n"
     ]
    }
   ],
   "source": [
    "clf_lasso = model_lasso(train, test, predictors)"
   ]
  },
  {
   "cell_type": "code",
   "execution_count": 161,
   "metadata": {},
   "outputs": [
    {
     "name": "stdout",
     "output_type": "stream",
     "text": [
      "\n",
      "Model Report (Train)\n",
      "AUC Score: 0.792775\n",
      "\n",
      "Model Report (Test)\n",
      "AUC Score: 0.782444\n",
      "\n",
      "List of predictors:\n",
      "- 0.11 feature_3\n",
      "- 0.10 feature_2_woe\n",
      "- 0.10 lifetime_2_woe\n",
      "- 0.09 feature_1\n",
      "- 0.08 feature_10_woe\n",
      "+ 0.06 feature_8\n",
      "- 0.04 PC2\n",
      "+ 0.02 PC1\n",
      "- 0.02 feature_16\n"
     ]
    }
   ],
   "source": [
    "clf_lasso = model_lasso(train, test, predictors_optimal)"
   ]
  },
  {
   "cell_type": "code",
   "execution_count": null,
   "metadata": {
    "collapsed": true
   },
   "outputs": [],
   "source": [
    "clf_lasso.predict(train[predictors])"
   ]
  },
  {
   "cell_type": "code",
   "execution_count": 116,
   "metadata": {},
   "outputs": [
    {
     "name": "stdout",
     "output_type": "stream",
     "text": [
      "\n",
      "Model Report (Train)\n",
      "AUC Score: 0.792775\n",
      "\n",
      "Model Report (Test)\n",
      "AUC Score: 0.782444\n",
      "\n",
      "List of predictors:\n",
      "- 0.11 feature_3\n",
      "- 0.10 feature_2_woe\n",
      "- 0.10 lifetime_2_woe\n",
      "- 0.09 feature_1\n",
      "- 0.08 feature_10_woe\n",
      "+ 0.06 feature_8\n",
      "- 0.04 PC2\n",
      "+ 0.02 PC1\n",
      "- 0.02 feature_16\n"
     ]
    }
   ],
   "source": [
    "model_lasso(train, test, predictors_optimal)"
   ]
  },
  {
   "cell_type": "markdown",
   "metadata": {},
   "source": [
    "---\n",
    "<h2>Model 1 <span class=\"text-muted\">Random Forest</span></h2>"
   ]
  },
  {
   "cell_type": "code",
   "execution_count": 164,
   "metadata": {
    "collapsed": true
   },
   "outputs": [],
   "source": [
    "def model_rnd(train, test, predictors):\n",
    "\n",
    "    clf = RandomForestClassifier(n_estimators=500, n_jobs=-1, random_state=42)\n",
    "    clf.fit(train[predictors].values, train[flag].values.ravel())\n",
    "\n",
    "    print( \"\\nModel Report (Train)\")\n",
    "    print( \"AUC Score: %f\" % metrics.roc_auc_score(train[flag].values, clf.predict_proba(train[predictors].values)[:,1]))\n",
    "\n",
    "    print( \"\\nModel Report (Test)\")\n",
    "    print( \"AUC Score: %f\" % metrics.roc_auc_score(test[flag].values, clf.predict_proba(test[predictors].values)[:,1]))\n",
    "       \n",
    "    zipped = zip(list(predictors), clf.feature_importances_)\n",
    "    zipped = sorted(zipped, key=lambda x: abs(x[1]), reverse=True)\n",
    "\n",
    "    print(\"\\nList of predictors:\")\n",
    "    [print( (\"%+d\" % np.sign(predictor[1]))[0], \"{:.2f}\".format(abs(predictor[1])), predictor[0] ) for predictor in zipped]\n",
    "    \n",
    "    return clf"
   ]
  },
  {
   "cell_type": "code",
   "execution_count": 165,
   "metadata": {},
   "outputs": [
    {
     "name": "stdout",
     "output_type": "stream",
     "text": [
      "\n",
      "Model Report (Train)\n",
      "AUC Score: 1.000000\n",
      "\n",
      "Model Report (Test)\n",
      "AUC Score: 0.796451\n",
      "\n",
      "List of predictors:\n",
      "+ 0.10 feature_3\n",
      "+ 0.09 feature_2\n",
      "+ 0.07 feature_1\n",
      "+ 0.07 feature_11\n",
      "+ 0.06 lifetime_2\n",
      "+ 0.06 feature_13\n",
      "+ 0.06 feature_15\n",
      "+ 0.06 feature_10\n",
      "+ 0.05 feature_14\n",
      "+ 0.05 feature_8\n",
      "+ 0.05 feature_12\n",
      "+ 0.05 feature_9\n",
      "+ 0.04 feature_17\n",
      "+ 0.04 feature_7\n",
      "+ 0.04 feature_4\n",
      "+ 0.04 feature_5\n",
      "+ 0.03 feature_6\n",
      "+ 0.02 feature_16\n",
      "+ 0.01 PC2\n",
      "+ 0.01 PC1\n"
     ]
    }
   ],
   "source": [
    "clf_rnd = model_rnd(train, test, predictors)"
   ]
  },
  {
   "cell_type": "code",
   "execution_count": 171,
   "metadata": {},
   "outputs": [
    {
     "name": "stdout",
     "output_type": "stream",
     "text": [
      "\n",
      "Model Report (Train)\n",
      "AUC Score: 1.000000\n",
      "\n",
      "Model Report (Test)\n",
      "AUC Score: 0.792189\n",
      "\n",
      "List of predictors:\n",
      "+ 0.25 feature_3\n",
      "+ 0.21 feature_8\n",
      "+ 0.20 feature_1\n",
      "+ 0.08 feature_2_woe\n",
      "+ 0.08 lifetime_2_woe\n",
      "+ 0.07 feature_10_woe\n",
      "+ 0.06 feature_16\n",
      "+ 0.02 PC2\n",
      "+ 0.02 PC1\n"
     ]
    }
   ],
   "source": [
    "clf_rnd = model_rnd(train, test, predictors_optimal)"
   ]
  },
  {
   "cell_type": "markdown",
   "metadata": {},
   "source": [
    "---\n",
    "<h2>Model 3 <span class=\"text-muted\">XGBoost</span></h2>"
   ]
  },
  {
   "cell_type": "code",
   "execution_count": null,
   "metadata": {
    "collapsed": true
   },
   "outputs": [],
   "source": [
    "import xgboost as xgb\n",
    "from xgboost import XGBClassifier\n",
    "\n",
    "def modelfit(alg, \n",
    "             dtrain, \n",
    "             dtest, \n",
    "             predictors, \n",
    "             verbose=0, \n",
    "             useTrainCV=True, \n",
    "             cv_folds=5, \n",
    "             early_stopping_rounds=50, \n",
    "             target='flag'):\n",
    "    \n",
    "    if useTrainCV:\n",
    "        xgb_param = alg.get_xgb_params()\n",
    "        xgtrain = xgb.DMatrix(dtrain[predictors].values, label=dtrain[target].values.flatten())\n",
    "        cvresult = xgb.cv(\n",
    "            xgb_param, \n",
    "            xgtrain, \n",
    "            num_boost_round=alg.get_params()['n_estimators'], \n",
    "            nfold=cv_folds,\n",
    "            metrics='auc', \n",
    "            early_stopping_rounds=early_stopping_rounds, \n",
    "            verbose_eval=verbose)\n",
    "        alg.set_params(n_estimators=cvresult.shape[0])\n",
    "        print(alg.get_params())\n",
    "    \n",
    "    # Fit the algorithm on the data\n",
    "    alg.fit(dtrain[predictors], dtrain[target].values.flatten(),eval_metric='auc')\n",
    "        \n",
    "    # Predict training set:\n",
    "    dtrain_predictions = alg.predict(dtrain[predictors])\n",
    "    dtrain_predprob = alg.predict_proba(dtrain[predictors])[:,1]\n",
    "        \n",
    "    # Print model report:\n",
    "    print( \"\\nModel Report (Train)\")\n",
    "    print( \"Accuracy : %.4g\" % metrics.accuracy_score(dtrain[target].values, dtrain_predictions))\n",
    "    print( \"AUC Score: %f\" % metrics.roc_auc_score(dtrain[target].values, dtrain_predprob))\n",
    "    \n",
    "    # Predict validation set:\n",
    "    dtest_predprob = alg.predict_proba(dtest[predictors])[:,1]\n",
    "\n",
    "    # Print model report:\n",
    "    print( \"\\nModel Report (Test)\")\n",
    "    print( \"AUC Score: %f\" % metrics.roc_auc_score(dtest[target].values, dtest_predprob))\n",
    "    \n",
    "    features_df = pd.DataFrame({'feature': pd.Series(predictors), 'importance': alg.feature_importances_})\n",
    "    features_df = features_df.sort_values('importance', ascending=False)\n",
    "    ind = np.arange(len(features_df['feature'].values))    # the x locations for the groups\n",
    "    \n",
    "    pyplot.figure(num=None, figsize=[12,4])\n",
    "    pyplot.bar(range(len(features_df)), features_df['importance'].values)\n",
    "    pyplot.xticks(ind, features_df['feature'].values, rotation='vertical')\n",
    "    pyplot.ylabel('Feature Importance Score')\n",
    "    pyplot.show()"
   ]
  },
  {
   "cell_type": "markdown",
   "metadata": {},
   "source": [
    "In order to decide on boosting parameters, we need to set some initial values of other parameters. Lets take the following values:\n",
    "\n",
    "* __max_depth = 5:__ This should be between 3-10. I’ve started with 5 but you can choose a different number as well. 4-6 can be good starting points.\n",
    "* __min_child_weight = 1:__ A smaller value is chosen because it is a highly imbalanced class problem and leaf nodes can have smaller size groups.\n",
    "* __gamma = 0:__ A smaller value like 0.1-0.2 can also be chosen for starting. This will anyways be tuned later.\n",
    "* __subsample, colsample_bytree = 0.8:__ This is a commonly used used start value. Typical values range between 0.5-0.9.\n",
    "* __scale_pos_weight = 1:__ Because of high class imbalance.\n",
    "\n",
    "Please note that all the above are just initial estimates and will be tuned later. Lets take a low __learning rate of 0.1__ here and check the optimum number of trees using cv function of xgboost. The function defined above will do it for us."
   ]
  },
  {
   "cell_type": "code",
   "execution_count": null,
   "metadata": {
    "scrolled": false
   },
   "outputs": [],
   "source": [
    "xgb1 = XGBClassifier(\n",
    " learning_rate =0.1,\n",
    " n_estimators=1000,\n",
    " max_depth=5,\n",
    " min_child_weight=1,\n",
    " gamma=0,\n",
    " subsample=0.8,\n",
    " colsample_bytree=0.8,\n",
    " objective= 'binary:logistic',\n",
    " nthread=4,\n",
    " scale_pos_weight=1,\n",
    " seed=27)\n",
    "\n",
    "modelfit(xgb1, train, test, predictors)"
   ]
  },
  {
   "cell_type": "markdown",
   "metadata": {},
   "source": [
    "## GridSearch"
   ]
  },
  {
   "cell_type": "markdown",
   "metadata": {},
   "source": [
    "We use GridSearch to find the optimal combination of hyperparameters. A search consists of:\n",
    "* an estimator (regressor or classifier such as sklearn.svm.SVC());\n",
    "* a parameter space;\n",
    "* a method for searching or sampling candidates;\n",
    "* a cross-validation scheme; and\n",
    "* a score function."
   ]
  },
  {
   "cell_type": "markdown",
   "metadata": {},
   "source": [
    "<h6 class=\"text-muted\">Step 1: Tune max_depth and min_child_weight</h6>\n",
    "\n",
    "We tune these first as they will have the highest impact on model outcome. To start with, let’s set wider ranges and then we will perform another iteration for smaller ranges."
   ]
  },
  {
   "cell_type": "code",
   "execution_count": null,
   "metadata": {
    "collapsed": true,
    "scrolled": false
   },
   "outputs": [],
   "source": [
    "from sklearn.model_selection import GridSearchCV #Perforing grid search\n",
    "\n",
    "param_test1 = {\n",
    " 'max_depth':list(range(3,10,2)),\n",
    " 'min_child_weight':list(range(1,6,2))\n",
    "}\n",
    "\n",
    "gsearch1 = GridSearchCV(\n",
    "    estimator = XGBClassifier(\n",
    "        learning_rate =0.1, \n",
    "        n_estimators=300, \n",
    "        max_depth=5,\n",
    "        min_child_weight=1, \n",
    "        gamma=0, \n",
    "        subsample=0.8, \n",
    "        colsample_bytree=0.8,\n",
    "        objective= 'binary:logistic', \n",
    "        nthread=4, \n",
    "        scale_pos_weight=1, \n",
    "        seed=27,\n",
    "        verbose_eval=1),\n",
    "    param_grid = param_test1, scoring='roc_auc', n_jobs=4, iid=False, cv=5, return_train_score=False)\n",
    "\n",
    "gsearch1.fit(train[predictors].values, train[target].values.flatten())\n",
    "\n",
    "#gsearch1.cv_results_, \n",
    "gsearch1.best_params_, gsearch1.best_score_"
   ]
  },
  {
   "cell_type": "markdown",
   "metadata": {},
   "source": [
    "There is high risk of overfitting for such large value for `max_depth`. Therefore, we are going to explore a narrower parameter space which should yield better results when generalising to test dataset."
   ]
  },
  {
   "cell_type": "code",
   "execution_count": null,
   "metadata": {
    "collapsed": true
   },
   "outputs": [],
   "source": [
    "param_test2 = {\n",
    " 'max_depth':[3,4,5],\n",
    " 'min_child_weight':[1,2,3]\n",
    "}\n",
    "\n",
    "gsearch2 = GridSearchCV(\n",
    "    estimator = XGBClassifier(\n",
    "        learning_rate=0.1,\n",
    "        n_estimators=300,\n",
    "        max_depth=5,\n",
    "        min_child_weight=2,\n",
    "        gamma=0,\n",
    "        subsample=0.8,\n",
    "        colsample_bytree=0.8,\n",
    "        objective= 'binary:logistic',\n",
    "        nthread=4,\n",
    "        scale_pos_weight=1,\n",
    "        seed=27), \n",
    "    param_grid = param_test2, scoring='roc_auc',n_jobs=4,iid=False, cv=5, return_train_score=True)\n",
    "\n",
    "gsearch2.fit(train[predictors].values,train[target].values.flatten())\n",
    "\n",
    "#gsearch2.cv_results_, \n",
    "gsearch2.best_params_, gsearch2.best_score_"
   ]
  },
  {
   "cell_type": "code",
   "execution_count": null,
   "metadata": {
    "collapsed": true
   },
   "outputs": [],
   "source": [
    "modelfit(gsearch2.best_estimator_, train, test, predictors)\n",
    "gsearch2.best_params_, gsearch2.best_score_"
   ]
  },
  {
   "cell_type": "markdown",
   "metadata": {},
   "source": [
    "The optimal values are `max_depth` = 5 and `min_child_weight` = 2, for now."
   ]
  },
  {
   "cell_type": "markdown",
   "metadata": {},
   "source": [
    "<h6 class=\"text-muted\">Step 2: Tune gamma</h6>\n",
    "\n",
    "Now let's tune gamma value using the parameters already tuned above. "
   ]
  },
  {
   "cell_type": "code",
   "execution_count": null,
   "metadata": {
    "collapsed": true
   },
   "outputs": [],
   "source": [
    "param_test3 = {\n",
    " 'gamma':[i/10.0 for i in range(0,5)]\n",
    "}\n",
    "\n",
    "gsearch3 = GridSearchCV(\n",
    "    estimator = XGBClassifier(\n",
    "        learning_rate =0.1, \n",
    "        n_estimators=300, \n",
    "        max_depth=5,\n",
    "        min_child_weight=2, \n",
    "        gamma=0, \n",
    "        subsample=0.8, \n",
    "        colsample_bytree=0.8,\n",
    "        objective= 'binary:logistic', \n",
    "        nthread=4, \n",
    "        scale_pos_weight=1, \n",
    "        seed=27,\n",
    "        verbose_eval=1),\n",
    "    param_grid = param_test3, scoring='roc_auc', n_jobs=4, iid=False, cv=5, return_train_score=True)\n",
    "\n",
    "gsearch3.fit(train[predictors].values, train[target].values.flatten())\n",
    "\n",
    "gsearch3.best_params_, gsearch3.best_score_"
   ]
  },
  {
   "cell_type": "markdown",
   "metadata": {},
   "source": [
    "This shows that our original value of `gamma` = 0 was optimal. Before proceeding, a good idea would be to re-calibrate the number of boosting rounds for the updated parameters."
   ]
  },
  {
   "cell_type": "code",
   "execution_count": null,
   "metadata": {
    "collapsed": true
   },
   "outputs": [],
   "source": [
    "xgb2 = XGBClassifier(\n",
    " learning_rate =0.1,\n",
    " n_estimators=1000,\n",
    " max_depth=5,\n",
    " min_child_weight=2,\n",
    " gamma=0,\n",
    " subsample=0.8,\n",
    " colsample_bytree=0.8,\n",
    " objective= 'binary:logistic',\n",
    " nthread=4,\n",
    " scale_pos_weight=1,\n",
    " seed=27)\n",
    "\n",
    "modelfit(xgb2, train, test, predictors)"
   ]
  },
  {
   "cell_type": "markdown",
   "metadata": {},
   "source": [
    "Here, we can see the improvement in score. So the final parameters are:\n",
    "\n",
    "* `max_depth`: 5\n",
    "* `min_child_weight`: 2\n",
    "* `gamma`: 0\n",
    "\n",
    "Nonetheless, if we manually raise the value of `gamma` to 0.1 the results improve both in the train and test set."
   ]
  },
  {
   "cell_type": "code",
   "execution_count": null,
   "metadata": {
    "collapsed": true
   },
   "outputs": [],
   "source": [
    "xgb2b = XGBClassifier(\n",
    " learning_rate =0.1,\n",
    " n_estimators=1000,\n",
    " max_depth=5,\n",
    " min_child_weight=2,\n",
    " gamma=0.1,\n",
    " subsample=0.8,\n",
    " colsample_bytree=0.8,\n",
    " objective= 'binary:logistic',\n",
    " nthread=4,\n",
    " scale_pos_weight=1,\n",
    " seed=27)\n",
    "\n",
    "modelfit(xgb2b, train, test, predictors)"
   ]
  },
  {
   "cell_type": "markdown",
   "metadata": {},
   "source": [
    "<h6 class=\"text-muted\">Step 3: Tune subsample and colsample_bytree</h6>\n",
    "\n",
    "The next step would be try different `subsample` and `colsample_bytree` values. Lets do this in 2 stages as well and take values 0.6,0.7,0.8,0.9 for both to start with. "
   ]
  },
  {
   "cell_type": "code",
   "execution_count": null,
   "metadata": {
    "collapsed": true
   },
   "outputs": [],
   "source": [
    "param_test4 = {\n",
    " 'subsample':[i/10.0 for i in range(6,10)],\n",
    " 'colsample_bytree':[i/10.0 for i in range(6,10)]\n",
    "}\n",
    "\n",
    "gsearch4 = GridSearchCV(\n",
    "    estimator = XGBClassifier(\n",
    "        learning_rate =0.1, \n",
    "        n_estimators=300, \n",
    "        max_depth=5,\n",
    "        min_child_weight=2, \n",
    "        gamma=0.1, \n",
    "        subsample=0.8, \n",
    "        colsample_bytree=0.8,\n",
    "        objective= 'binary:logistic', \n",
    "        nthread=4, \n",
    "        scale_pos_weight=1, \n",
    "        seed=27,\n",
    "        verbose_eval=1),\n",
    "    param_grid = param_test4, scoring='roc_auc', n_jobs=4, iid=False, cv=5, return_train_score=True)\n",
    "\n",
    "gsearch4.fit(train[predictors].values, train[target].values.flatten())\n",
    "\n",
    "gsearch4.best_params_, gsearch4.best_score_"
   ]
  },
  {
   "cell_type": "markdown",
   "metadata": {},
   "source": [
    "Here, we found 0.8 as the optimum value for `colsample_bytree` and 0.9 for `subsample`. Now we should try values in 0.05 interval around these."
   ]
  },
  {
   "cell_type": "code",
   "execution_count": null,
   "metadata": {
    "collapsed": true
   },
   "outputs": [],
   "source": [
    "param_test5 = {\n",
    " 'subsample':[i/100.0 for i in range(80,95,5)],\n",
    " 'colsample_bytree':[i/100.0 for i in range(80,95,5)]\n",
    "}\n",
    "\n",
    "gsearch5 = GridSearchCV(\n",
    "    estimator = XGBClassifier(\n",
    "        learning_rate =0.1, \n",
    "        n_estimators=300, \n",
    "        max_depth=5,\n",
    "        min_child_weight=2, \n",
    "        gamma=0.1, \n",
    "        subsample=0.8, \n",
    "        colsample_bytree=0.8,\n",
    "        objective= 'binary:logistic', \n",
    "        nthread=4, \n",
    "        scale_pos_weight=1, \n",
    "        seed=27,\n",
    "        verbose_eval=1),\n",
    "    param_grid = param_test5, scoring='roc_auc', n_jobs=4, iid=False, cv=5, return_train_score=True)\n",
    "\n",
    "gsearch5.fit(train[predictors].values, train[target].values.flatten())\n",
    "\n",
    "gsearch5.best_params_, gsearch5.best_score_"
   ]
  },
  {
   "cell_type": "code",
   "execution_count": null,
   "metadata": {
    "collapsed": true
   },
   "outputs": [],
   "source": [
    "xgb3 = XGBClassifier(\n",
    " learning_rate =0.1,\n",
    " n_estimators=1000,\n",
    " max_depth=5,\n",
    " min_child_weight=2,\n",
    " gamma=0.1,\n",
    " subsample=0.9,\n",
    " colsample_bytree=0.85,\n",
    " objective= 'binary:logistic',\n",
    " nthread=4,\n",
    " scale_pos_weight=1,\n",
    " seed=27)\n",
    "\n",
    "modelfit(xgb3, train, test, predictors)"
   ]
  },
  {
   "cell_type": "markdown",
   "metadata": {},
   "source": [
    "The optimum values are:\n",
    "\n",
    "* `subsample`: 0.90\n",
    "* `colsample_bytree`: 0.85\n",
    "\n",
    "However, 0.80 for both values works better."
   ]
  },
  {
   "cell_type": "markdown",
   "metadata": {},
   "source": [
    "<h6 class=\"text-muted\">Step 4: Tuning Regularization Parameters</h6>\n",
    "\n",
    "Next step is to apply regularization to reduce overfitting. Though many people don’t use this parameters much as `gamma` provides a substantial way of controlling complexity. But we should always try it. I’ll tune `reg_alpha` value here and leave it upto you to try different values of `reg_lambda`."
   ]
  },
  {
   "cell_type": "code",
   "execution_count": null,
   "metadata": {
    "collapsed": true
   },
   "outputs": [],
   "source": [
    "param_test6 = {\n",
    " 'reg_alpha':[1e-5, 1e-2, 0.1, 1, 100]\n",
    "}\n",
    "\n",
    "gsearch6 = GridSearchCV(\n",
    "    estimator = XGBClassifier(\n",
    "        learning_rate =0.1, \n",
    "        n_estimators=300, \n",
    "        max_depth=5,\n",
    "        min_child_weight=2, \n",
    "        gamma=0.1, \n",
    "        subsample=0.8, \n",
    "        colsample_bytree=0.8,\n",
    "        objective= 'binary:logistic', \n",
    "        nthread=4, \n",
    "        scale_pos_weight=1, \n",
    "        seed=27,\n",
    "        verbose_eval=1),\n",
    "    param_grid = param_test6, scoring='roc_auc', n_jobs=4, iid=False, cv=5, return_train_score=True)\n",
    "\n",
    "gsearch6.fit(train[predictors].values, train[target].values.flatten())\n",
    "\n",
    "gsearch6.cv_results_, gsearch6.best_params_, gsearch6.best_score_"
   ]
  },
  {
   "cell_type": "markdown",
   "metadata": {},
   "source": [
    "You can see that we got a better CV. Now we can apply this regularization in the model and look at the impact:"
   ]
  },
  {
   "cell_type": "code",
   "execution_count": null,
   "metadata": {
    "collapsed": true
   },
   "outputs": [],
   "source": [
    "xgb4 = XGBClassifier(\n",
    " learning_rate =0.1,\n",
    " n_estimators=1000,\n",
    " max_depth=5,\n",
    " min_child_weight=2,\n",
    " gamma=0.1,\n",
    " subsample=0.8,\n",
    " colsample_bytree=0.8,\n",
    " reg_alpha=1,\n",
    " objective= 'binary:logistic',\n",
    " nthread=4,\n",
    " scale_pos_weight=1,\n",
    " seed=27)\n",
    "\n",
    "modelfit(xgb4, train, test, predictors)"
   ]
  },
  {
   "cell_type": "markdown",
   "metadata": {},
   "source": [
    "<h6 class=\"text-muted\">Step 5: Reducing the Learning Rate</h6>\n",
    "\n",
    "Lastly, we should lower the learning rate and add more trees. Lets use the cv function of XGBoost to do the job again."
   ]
  },
  {
   "cell_type": "code",
   "execution_count": null,
   "metadata": {
    "collapsed": true
   },
   "outputs": [],
   "source": [
    "xgb5 = XGBClassifier(\n",
    " learning_rate =0.01,\n",
    " n_estimators=5000,\n",
    " max_depth=5,\n",
    " min_child_weight=2,\n",
    " gamma=0.1,\n",
    " subsample=0.8,\n",
    " colsample_bytree=0.8,\n",
    " reg_alpha=2,\n",
    " objective= 'binary:logistic',\n",
    " nthread=4,\n",
    " scale_pos_weight=1,\n",
    " seed=27)\n",
    "\n",
    "modelfit(xgb5, train, test, predictors)"
   ]
  },
  {
   "cell_type": "markdown",
   "metadata": {},
   "source": [
    "Reducing the `learning_rate` did no work as expected and the score reduced slightly."
   ]
  },
  {
   "cell_type": "markdown",
   "metadata": {},
   "source": [
    "<h6 class=\"text-muted\">Saving the Model</h6>"
   ]
  },
  {
   "cell_type": "code",
   "execution_count": null,
   "metadata": {
    "collapsed": true
   },
   "outputs": [],
   "source": [
    "import pickle\n",
    "\n",
    "# save model to file\n",
    "pickle.dump(xgb4, open(\"xgb.pickle.dat\", \"wb\"))"
   ]
  },
  {
   "cell_type": "markdown",
   "metadata": {},
   "source": [
    "<h6 class=\"text-muted\">Exporting data</h6>"
   ]
  },
  {
   "cell_type": "code",
   "execution_count": null,
   "metadata": {
    "collapsed": true
   },
   "outputs": [],
   "source": [
    "train['train'] = 1\n",
    "test['train'] = 0\n",
    "\n",
    "df_total = pd.concat([train, test]).reset_index().drop('index', axis=1)"
   ]
  },
  {
   "cell_type": "code",
   "execution_count": null,
   "metadata": {
    "collapsed": true
   },
   "outputs": [],
   "source": [
    "df_total.to_csv('./data/Courier_data_model.csv', sep=',', index=False)"
   ]
  }
 ],
 "metadata": {
  "kernelspec": {
   "display_name": "Python 3",
   "language": "python",
   "name": "python3"
  },
  "language_info": {
   "codemirror_mode": {
    "name": "ipython",
    "version": 3
   },
   "file_extension": ".py",
   "mimetype": "text/x-python",
   "name": "python",
   "nbconvert_exporter": "python",
   "pygments_lexer": "ipython3",
   "version": "3.4.2"
  }
 },
 "nbformat": 4,
 "nbformat_minor": 2
}
